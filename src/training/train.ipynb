{
 "cells": [
  {
   "cell_type": "code",
   "execution_count": null,
   "metadata": {},
   "outputs": [],
   "source": [
    "!pip install ultralytics kaggle tqdm albumentations"
   ]
  },
  {
   "cell_type": "code",
   "execution_count": null,
   "metadata": {},
   "outputs": [],
   "source": [
    "!git clone https://github.com/n24q02m/VehicleDetection.git\n",
    "%cd VehicleDetection"
   ]
  },
  {
   "cell_type": "code",
   "execution_count": null,
   "metadata": {},
   "outputs": [],
   "source": [
    "from utils.kaggle_auth import setup_kaggle_auth\n",
    "\n",
    "# Set up Kaggle authentication\n",
    "if not setup_kaggle_auth():\n",
    "    raise Exception(\"Failed to set up Kaggle authentication\")"
   ]
  },
  {
   "cell_type": "code",
   "execution_count": null,
   "metadata": {},
   "outputs": [],
   "source": [
    "from utils.download_utils import download_dataset, download_model\n",
    "\n",
    "# Download required files\n",
    "download_dataset()\n",
    "download_model()"
   ]
  },
  {
   "cell_type": "code",
   "execution_count": null,
   "metadata": {},
   "outputs": [],
   "source": [
    "!python ./src/training/train.py"
   ]
  },
  {
   "cell_type": "code",
   "execution_count": null,
   "metadata": {},
   "outputs": [],
   "source": [
    "from utils.update import update_model\n",
    "\n",
    "# Update model on Kaggle\n",
    "update_model(\n",
    "    model_name=\"n24q02m/final-vehicle-detection-model\",\n",
    "    model_dir=\"./runs/final-model\",\n",
    "    title=\"Final Vehicle Detection Model\",\n",
    ")"
   ]
  }
 ],
 "metadata": {
  "kernelspec": {
   "display_name": "vehicle-detection",
   "language": "python",
   "name": "python3"
  },
  "language_info": {
   "name": "python",
   "version": "3.10.15"
  }
 },
 "nbformat": 4,
 "nbformat_minor": 2
}
