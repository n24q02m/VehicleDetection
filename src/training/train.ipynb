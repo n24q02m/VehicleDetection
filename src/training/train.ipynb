{
 "cells": [
  {
   "cell_type": "code",
   "execution_count": 1,
   "id": "8e53da15",
   "metadata": {
    "execution": {
     "iopub.execute_input": "2024-11-18T14:49:23.143690Z",
     "iopub.status.busy": "2024-11-18T14:49:23.143317Z",
     "iopub.status.idle": "2024-11-18T14:49:41.808000Z",
     "shell.execute_reply": "2024-11-18T14:49:41.806880Z"
    },
    "papermill": {
     "duration": 18.671148,
     "end_time": "2024-11-18T14:49:41.810358",
     "exception": false,
     "start_time": "2024-11-18T14:49:23.139210",
     "status": "completed"
    },
    "tags": []
   },
   "outputs": [
    {
     "name": "stdout",
     "output_type": "stream",
     "text": [
      "Collecting ultralytics\r\n",
      "  Downloading ultralytics-8.3.32-py3-none-any.whl.metadata (35 kB)\r\n",
      "Requirement already satisfied: kaggle in /opt/conda/lib/python3.10/site-packages (1.6.17)\r\n",
      "Requirement already satisfied: tqdm in /opt/conda/lib/python3.10/site-packages (4.66.4)\r\n",
      "Collecting tqdm\r\n",
      "  Downloading tqdm-4.67.0-py3-none-any.whl.metadata (57 kB)\r\n",
      "\u001b[2K     \u001b[90m━━━━━━━━━━━━━━━━━━━━━━━━━━━━━━━━━━━━━━━━\u001b[0m \u001b[32m57.6/57.6 kB\u001b[0m \u001b[31m2.1 MB/s\u001b[0m eta \u001b[36m0:00:00\u001b[0m\r\n",
      "\u001b[?25hRequirement already satisfied: albumentations in /opt/conda/lib/python3.10/site-packages (1.4.17)\r\n",
      "Collecting albumentations\r\n",
      "  Downloading albumentations-1.4.21-py3-none-any.whl.metadata (31 kB)\r\n",
      "Requirement already satisfied: numpy>=1.23.0 in /opt/conda/lib/python3.10/site-packages (from ultralytics) (1.26.4)\r\n",
      "Requirement already satisfied: matplotlib>=3.3.0 in /opt/conda/lib/python3.10/site-packages (from ultralytics) (3.7.5)\r\n",
      "Requirement already satisfied: opencv-python>=4.6.0 in /opt/conda/lib/python3.10/site-packages (from ultralytics) (4.10.0.84)\r\n",
      "Requirement already satisfied: pillow>=7.1.2 in /opt/conda/lib/python3.10/site-packages (from ultralytics) (10.3.0)\r\n",
      "Requirement already satisfied: pyyaml>=5.3.1 in /opt/conda/lib/python3.10/site-packages (from ultralytics) (6.0.2)\r\n",
      "Requirement already satisfied: requests>=2.23.0 in /opt/conda/lib/python3.10/site-packages (from ultralytics) (2.32.3)\r\n",
      "Requirement already satisfied: scipy>=1.4.1 in /opt/conda/lib/python3.10/site-packages (from ultralytics) (1.14.1)\r\n",
      "Requirement already satisfied: torch>=1.8.0 in /opt/conda/lib/python3.10/site-packages (from ultralytics) (2.4.0)\r\n",
      "Requirement already satisfied: torchvision>=0.9.0 in /opt/conda/lib/python3.10/site-packages (from ultralytics) (0.19.0)\r\n",
      "Requirement already satisfied: psutil in /opt/conda/lib/python3.10/site-packages (from ultralytics) (5.9.3)\r\n",
      "Requirement already satisfied: py-cpuinfo in /opt/conda/lib/python3.10/site-packages (from ultralytics) (9.0.0)\r\n",
      "Requirement already satisfied: pandas>=1.1.4 in /opt/conda/lib/python3.10/site-packages (from ultralytics) (2.2.2)\r\n",
      "Requirement already satisfied: seaborn>=0.11.0 in /opt/conda/lib/python3.10/site-packages (from ultralytics) (0.12.2)\r\n",
      "Collecting ultralytics-thop>=2.0.0 (from ultralytics)\r\n",
      "  Downloading ultralytics_thop-2.0.11-py3-none-any.whl.metadata (9.4 kB)\r\n",
      "Requirement already satisfied: six>=1.10 in /opt/conda/lib/python3.10/site-packages (from kaggle) (1.16.0)\r\n",
      "Requirement already satisfied: certifi>=2023.7.22 in /opt/conda/lib/python3.10/site-packages (from kaggle) (2024.8.30)\r\n",
      "Requirement already satisfied: python-dateutil in /opt/conda/lib/python3.10/site-packages (from kaggle) (2.9.0.post0)\r\n",
      "Requirement already satisfied: python-slugify in /opt/conda/lib/python3.10/site-packages (from kaggle) (8.0.4)\r\n",
      "Requirement already satisfied: urllib3 in /opt/conda/lib/python3.10/site-packages (from kaggle) (1.26.18)\r\n",
      "Requirement already satisfied: bleach in /opt/conda/lib/python3.10/site-packages (from kaggle) (6.1.0)\r\n",
      "Requirement already satisfied: pydantic>=2.7.0 in /opt/conda/lib/python3.10/site-packages (from albumentations) (2.9.2)\r\n",
      "Collecting albucore==0.0.20 (from albumentations)\r\n",
      "  Downloading albucore-0.0.20-py3-none-any.whl.metadata (5.3 kB)\r\n",
      "Requirement already satisfied: eval-type-backport in /opt/conda/lib/python3.10/site-packages (from albumentations) (0.2.0)\r\n",
      "Requirement already satisfied: opencv-python-headless>=4.9.0.80 in /opt/conda/lib/python3.10/site-packages (from albumentations) (4.10.0.84)\r\n",
      "Collecting stringzilla>=3.10.4 (from albucore==0.0.20->albumentations)\r\n",
      "  Downloading stringzilla-3.10.10-cp310-cp310-manylinux_2_5_x86_64.manylinux1_x86_64.manylinux_2_28_x86_64.whl.metadata (79 kB)\r\n",
      "\u001b[2K     \u001b[90m━━━━━━━━━━━━━━━━━━━━━━━━━━━━━━━━━━━━━━━━\u001b[0m \u001b[32m79.9/79.9 kB\u001b[0m \u001b[31m5.1 MB/s\u001b[0m eta \u001b[36m0:00:00\u001b[0m\r\n",
      "\u001b[?25hCollecting simsimd>=5.9.2 (from albucore==0.0.20->albumentations)\r\n",
      "  Downloading simsimd-6.0.5-cp310-cp310-manylinux_2_28_x86_64.whl.metadata (57 kB)\r\n",
      "\u001b[2K     \u001b[90m━━━━━━━━━━━━━━━━━━━━━━━━━━━━━━━━━━━━━━━━\u001b[0m \u001b[32m57.7/57.7 kB\u001b[0m \u001b[31m3.1 MB/s\u001b[0m eta \u001b[36m0:00:00\u001b[0m\r\n",
      "\u001b[?25hRequirement already satisfied: contourpy>=1.0.1 in /opt/conda/lib/python3.10/site-packages (from matplotlib>=3.3.0->ultralytics) (1.2.1)\r\n",
      "Requirement already satisfied: cycler>=0.10 in /opt/conda/lib/python3.10/site-packages (from matplotlib>=3.3.0->ultralytics) (0.12.1)\r\n",
      "Requirement already satisfied: fonttools>=4.22.0 in /opt/conda/lib/python3.10/site-packages (from matplotlib>=3.3.0->ultralytics) (4.53.0)\r\n",
      "Requirement already satisfied: kiwisolver>=1.0.1 in /opt/conda/lib/python3.10/site-packages (from matplotlib>=3.3.0->ultralytics) (1.4.5)\r\n",
      "Requirement already satisfied: packaging>=20.0 in /opt/conda/lib/python3.10/site-packages (from matplotlib>=3.3.0->ultralytics) (21.3)\r\n",
      "Requirement already satisfied: pyparsing>=2.3.1 in /opt/conda/lib/python3.10/site-packages (from matplotlib>=3.3.0->ultralytics) (3.1.2)\r\n",
      "Requirement already satisfied: pytz>=2020.1 in /opt/conda/lib/python3.10/site-packages (from pandas>=1.1.4->ultralytics) (2024.1)\r\n",
      "Requirement already satisfied: tzdata>=2022.7 in /opt/conda/lib/python3.10/site-packages (from pandas>=1.1.4->ultralytics) (2024.1)\r\n",
      "Requirement already satisfied: annotated-types>=0.6.0 in /opt/conda/lib/python3.10/site-packages (from pydantic>=2.7.0->albumentations) (0.7.0)\r\n",
      "Requirement already satisfied: pydantic-core==2.23.4 in /opt/conda/lib/python3.10/site-packages (from pydantic>=2.7.0->albumentations) (2.23.4)\r\n",
      "Requirement already satisfied: typing-extensions>=4.6.1 in /opt/conda/lib/python3.10/site-packages (from pydantic>=2.7.0->albumentations) (4.12.2)\r\n",
      "Requirement already satisfied: charset-normalizer<4,>=2 in /opt/conda/lib/python3.10/site-packages (from requests>=2.23.0->ultralytics) (3.3.2)\r\n",
      "Requirement already satisfied: idna<4,>=2.5 in /opt/conda/lib/python3.10/site-packages (from requests>=2.23.0->ultralytics) (3.7)\r\n",
      "Requirement already satisfied: filelock in /opt/conda/lib/python3.10/site-packages (from torch>=1.8.0->ultralytics) (3.15.1)\r\n",
      "Requirement already satisfied: sympy in /opt/conda/lib/python3.10/site-packages (from torch>=1.8.0->ultralytics) (1.13.3)\r\n",
      "Requirement already satisfied: networkx in /opt/conda/lib/python3.10/site-packages (from torch>=1.8.0->ultralytics) (3.3)\r\n",
      "Requirement already satisfied: jinja2 in /opt/conda/lib/python3.10/site-packages (from torch>=1.8.0->ultralytics) (3.1.4)\r\n",
      "Requirement already satisfied: fsspec in /opt/conda/lib/python3.10/site-packages (from torch>=1.8.0->ultralytics) (2024.6.1)\r\n",
      "Requirement already satisfied: webencodings in /opt/conda/lib/python3.10/site-packages (from bleach->kaggle) (0.5.1)\r\n",
      "Requirement already satisfied: text-unidecode>=1.3 in /opt/conda/lib/python3.10/site-packages (from python-slugify->kaggle) (1.3)\r\n",
      "Requirement already satisfied: MarkupSafe>=2.0 in /opt/conda/lib/python3.10/site-packages (from jinja2->torch>=1.8.0->ultralytics) (2.1.5)\r\n",
      "Requirement already satisfied: mpmath<1.4,>=1.1.0 in /opt/conda/lib/python3.10/site-packages (from sympy->torch>=1.8.0->ultralytics) (1.3.0)\r\n",
      "Downloading ultralytics-8.3.32-py3-none-any.whl (887 kB)\r\n",
      "\u001b[2K   \u001b[90m━━━━━━━━━━━━━━━━━━━━━━━━━━━━━━━━━━━━━━━━\u001b[0m \u001b[32m887.0/887.0 kB\u001b[0m \u001b[31m18.9 MB/s\u001b[0m eta \u001b[36m0:00:00\u001b[0m\r\n",
      "\u001b[?25hDownloading tqdm-4.67.0-py3-none-any.whl (78 kB)\r\n",
      "\u001b[2K   \u001b[90m━━━━━━━━━━━━━━━━━━━━━━━━━━━━━━━━━━━━━━━━\u001b[0m \u001b[32m78.6/78.6 kB\u001b[0m \u001b[31m4.8 MB/s\u001b[0m eta \u001b[36m0:00:00\u001b[0m\r\n",
      "\u001b[?25hDownloading albumentations-1.4.21-py3-none-any.whl (227 kB)\r\n",
      "\u001b[2K   \u001b[90m━━━━━━━━━━━━━━━━━━━━━━━━━━━━━━━━━━━━━━━━\u001b[0m \u001b[32m227.9/227.9 kB\u001b[0m \u001b[31m13.8 MB/s\u001b[0m eta \u001b[36m0:00:00\u001b[0m\r\n",
      "\u001b[?25hDownloading albucore-0.0.20-py3-none-any.whl (12 kB)\r\n",
      "Downloading ultralytics_thop-2.0.11-py3-none-any.whl (26 kB)\r\n",
      "Downloading simsimd-6.0.5-cp310-cp310-manylinux_2_28_x86_64.whl (605 kB)\r\n",
      "\u001b[2K   \u001b[90m━━━━━━━━━━━━━━━━━━━━━━━━━━━━━━━━━━━━━━━━\u001b[0m \u001b[32m605.1/605.1 kB\u001b[0m \u001b[31m3.6 MB/s\u001b[0m eta \u001b[36m0:00:00\u001b[0m\r\n",
      "\u001b[?25hDownloading stringzilla-3.10.10-cp310-cp310-manylinux_2_5_x86_64.manylinux1_x86_64.manylinux_2_28_x86_64.whl (291 kB)\r\n",
      "\u001b[2K   \u001b[90m━━━━━━━━━━━━━━━━━━━━━━━━━━━━━━━━━━━━━━━━\u001b[0m \u001b[32m291.7/291.7 kB\u001b[0m \u001b[31m16.9 MB/s\u001b[0m eta \u001b[36m0:00:00\u001b[0m\r\n",
      "\u001b[?25hInstalling collected packages: stringzilla, simsimd, tqdm, albucore, ultralytics-thop, albumentations, ultralytics\r\n",
      "  Attempting uninstall: tqdm\r\n",
      "    Found existing installation: tqdm 4.66.4\r\n",
      "    Uninstalling tqdm-4.66.4:\r\n",
      "      Successfully uninstalled tqdm-4.66.4\r\n",
      "  Attempting uninstall: albucore\r\n",
      "    Found existing installation: albucore 0.0.17\r\n",
      "    Uninstalling albucore-0.0.17:\r\n",
      "      Successfully uninstalled albucore-0.0.17\r\n",
      "  Attempting uninstall: albumentations\r\n",
      "    Found existing installation: albumentations 1.4.17\r\n",
      "    Uninstalling albumentations-1.4.17:\r\n",
      "      Successfully uninstalled albumentations-1.4.17\r\n",
      "\u001b[31mERROR: pip's dependency resolver does not currently take into account all the packages that are installed. This behaviour is the source of the following dependency conflicts.\r\n",
      "beatrix-jupyterlab 2024.66.154055 requires jupyterlab~=3.6.0, but you have jupyterlab 4.2.5 which is incompatible.\r\n",
      "conda 24.9.0 requires packaging>=23.0, but you have packaging 21.3 which is incompatible.\r\n",
      "ydata-profiling 4.10.0 requires scipy<1.14,>=1.4.1, but you have scipy 1.14.1 which is incompatible.\u001b[0m\u001b[31m\r\n",
      "\u001b[0mSuccessfully installed albucore-0.0.20 albumentations-1.4.21 simsimd-6.0.5 stringzilla-3.10.10 tqdm-4.67.0 ultralytics-8.3.32 ultralytics-thop-2.0.11\r\n"
     ]
    }
   ],
   "source": [
    "!pip install -U ultralytics kaggle tqdm albumentations"
   ]
  },
  {
   "cell_type": "code",
   "execution_count": null,
   "id": "2902818c",
   "metadata": {
    "execution": {
     "iopub.execute_input": "2024-11-18T14:49:41.823900Z",
     "iopub.status.busy": "2024-11-18T14:49:41.823504Z",
     "iopub.status.idle": "2024-11-18T14:50:48.090316Z",
     "shell.execute_reply": "2024-11-18T14:50:48.088790Z"
    },
    "papermill": {
     "duration": 66.276177,
     "end_time": "2024-11-18T14:50:48.092548",
     "exception": false,
     "start_time": "2024-11-18T14:49:41.816371",
     "status": "completed"
    },
    "tags": []
   },
   "outputs": [
    {
     "name": "stdout",
     "output_type": "stream",
     "text": [
      "Cloning into 'VehicleDetection'...\r\n",
      "remote: Enumerating objects: 50018, done.\u001b[K\r\n",
      "remote: Counting objects: 100% (10031/10031), done.\u001b[K\r\n",
      "remote: Compressing objects: 100% (8781/8781), done.\u001b[K\r\n",
      "remote: Total 50018 (delta 1313), reused 9932 (delta 1223), pack-reused 39987 (from 1)\u001b[K\r\n",
      "Receiving objects: 100% (50018/50018), 1.43 GiB | 24.35 MiB/s, done.\r\n",
      "Resolving deltas: 100% (11786/11786), done.\r\n",
      "/kaggle/working/VehicleDetection\n"
     ]
    }
   ],
   "source": [
    "!git clone https://github.com/n24q02m/VehicleDetection.git\n",
    "%cd VehicleDetection\n",
    "\n",
    "# Set YOLO dataset directory\n",
    "dataset_dir = '/kaggle/working/VehicleDetection/data/soict-hackathon-2024_dataset'\n",
    "!yolo settings datasets_dir={dataset_dir}"
   ]
  },
  {
   "cell_type": "code",
   "execution_count": null,
   "id": "e33af8b3",
   "metadata": {
    "execution": {
     "iopub.execute_input": "2024-11-18T14:50:55.341449Z",
     "iopub.status.busy": "2024-11-18T14:50:55.341053Z",
     "iopub.status.idle": "2024-11-18T18:57:02.469112Z",
     "shell.execute_reply": "2024-11-18T18:57:02.467936Z"
    },
    "papermill": {
     "duration": 14769.674565,
     "end_time": "2024-11-18T18:57:04.996558",
     "exception": false,
     "start_time": "2024-11-18T14:50:55.321993",
     "status": "completed"
    },
    "tags": []
   },
   "outputs": [
    {
     "name": "stdout",
     "output_type": "stream",
     "text": [
      "Đang chạy trên Kaggle. Sử dụng Kaggle Secrets cho xác thực.\n",
      "Downloading dataset n24q02m/augmented-vehicle-detection-dataset...\n",
      "Dataset URL: https://www.kaggle.com/datasets/n24q02m/augmented-vehicle-detection-dataset\n",
      "Dataset downloaded and extracted.\n",
      "Downloading model n24q02m/finetuned-vehicle-detection-model...\n",
      "Dataset URL: https://www.kaggle.com/datasets/n24q02m/finetuned-vehicle-detection-model\n",
      "Ultralytics 8.3.32 🚀 Python-3.10.14 torch-2.4.0 CUDA:0 (Tesla P100-PCIE-16GB, 16269MiB)\n",
      "\u001b[34m\u001b[1mengine/trainer: \u001b[0mtask=detect, mode=train, model=./models/yolov8m-ghost.yaml, data=./data/soict-hackathon-2024_dataset/data.yaml, epochs=300, time=4, patience=100, batch=8, imgsz=480, save=True, save_period=-1, cache=disk, device=0, workers=8, project=./runs, name=final-model_20241118_145453, exist_ok=True, pretrained=True, optimizer=auto, verbose=True, seed=42, deterministic=True, single_cls=False, rect=False, cos_lr=True, close_mosaic=10, resume=False, amp=True, fraction=1.0, profile=False, freeze=None, multi_scale=True, overlap_mask=True, mask_ratio=4, dropout=0.0, val=True, split=val, save_json=False, save_hybrid=False, conf=None, iou=0.7, max_det=300, half=True, dnn=False, plots=True, source=None, vid_stride=1, stream_buffer=False, visualize=False, augment=True, agnostic_nms=False, classes=None, retina_masks=False, embed=None, show=True, save_frames=False, save_txt=False, save_conf=False, save_crop=False, show_labels=True, show_conf=True, show_boxes=True, line_width=None, format=torchscript, keras=False, optimize=False, int8=False, dynamic=False, simplify=True, opset=None, workspace=4, nms=False, lr0=0.01, lrf=0.01, momentum=0.937, weight_decay=0.0005, warmup_epochs=3.0, warmup_momentum=0.8, warmup_bias_lr=0.1, box=7.5, cls=0.5, dfl=1.5, pose=12.0, kobj=1.0, label_smoothing=0.1, nbs=64, hsv_h=0.0, hsv_s=0.0, hsv_v=0.0, degrees=0.0, translate=0.0, scale=0.0, shear=0.0, perspective=0.0, flipud=0.0, fliplr=0.0, bgr=0.0, mosaic=1.0, mixup=0.0, copy_paste=0.0, copy_paste_mode=flip, auto_augment=randaugment, erasing=0.3, crop_fraction=1.0, cfg=None, tracker=botsort.yaml, save_dir=runs/final-model_20241118_145453\n",
      "Downloading https://ultralytics.com/assets/Arial.ttf to '/root/.config/Ultralytics/Arial.ttf'...\n"
     ]
    },
    {
     "name": "stderr",
     "output_type": "stream",
     "text": [
      "100%|██████████| 755k/755k [00:00<00:00, 3.12MB/s]\n",
      "2024-11-18 14:54:59,509\tINFO util.py:124 -- Outdated packages:\n",
      "  ipywidgets==7.7.1 found, needs ipywidgets>=8\n",
      "Run `pip install -U ipywidgets`, then restart the notebook server for rich notebook output.\n",
      "2024-11-18 14:55:00,817\tINFO util.py:124 -- Outdated packages:\n",
      "  ipywidgets==7.7.1 found, needs ipywidgets>=8\n",
      "Run `pip install -U ipywidgets`, then restart the notebook server for rich notebook output.\n"
     ]
    },
    {
     "name": "stdout",
     "output_type": "stream",
     "text": [
      "\n",
      "                   from  n    params  module                                       arguments                     \n",
      "  0                  -1  1      1392  ultralytics.nn.modules.conv.Conv             [3, 48, 3, 2]                 \n",
      "  1                  -1  1     22128  ultralytics.nn.modules.conv.GhostConv        [48, 96, 3, 2]                \n",
      "  2                  -1  2     23208  ultralytics.nn.modules.block.C3Ghost         [96, 96, 2, True]             \n",
      "  3                  -1  1     85728  ultralytics.nn.modules.conv.GhostConv        [96, 192, 3, 2]               \n",
      "  4                  -1  4    101280  ultralytics.nn.modules.block.C3Ghost         [192, 192, 4, True]           \n",
      "  5                  -1  1    337344  ultralytics.nn.modules.conv.GhostConv        [192, 384, 3, 2]              \n",
      "  6                  -1  4    386880  ultralytics.nn.modules.block.C3Ghost         [384, 384, 4, True]           \n",
      "  7                  -1  1   1003680  ultralytics.nn.modules.conv.GhostConv        [384, 576, 3, 2]              \n",
      "  8                  -1  2    761328  ultralytics.nn.modules.block.C3Ghost         [576, 576, 2, True]           \n",
      "  9                  -1  1    831168  ultralytics.nn.modules.block.SPPF            [576, 576, 5]                 \n",
      " 10                  -1  1         0  torch.nn.modules.upsampling.Upsample         [None, 2, 'nearest']          \n",
      " 11             [-1, 6]  1         0  ultralytics.nn.modules.conv.Concat           [1]                           \n",
      " 12                  -1  2    562848  ultralytics.nn.modules.block.C3Ghost         [960, 384, 2]                 \n",
      " 13                  -1  1         0  torch.nn.modules.upsampling.Upsample         [None, 2, 'nearest']          \n",
      " 14             [-1, 4]  1         0  ultralytics.nn.modules.conv.Concat           [1]                           \n",
      " 15                  -1  2    161616  ultralytics.nn.modules.block.C3Ghost         [576, 192, 2]                 \n",
      " 16                  -1  1         0  torch.nn.modules.upsampling.Upsample         [None, 2, 'nearest']          \n",
      " 17             [-1, 2]  1         0  ultralytics.nn.modules.conv.Concat           [1]                           \n",
      " 18                  -1  2     41640  ultralytics.nn.modules.block.C3Ghost         [288, 96, 2]                  \n",
      " 19                  -1  1     42864  ultralytics.nn.modules.conv.GhostConv        [96, 96, 3, 2]                \n",
      " 20            [-1, 15]  1         0  ultralytics.nn.modules.conv.Concat           [1]                           \n",
      " 21                  -1  2    106320  ultralytics.nn.modules.block.C3Ghost         [288, 192, 2]                 \n",
      " 22                  -1  1    168672  ultralytics.nn.modules.conv.GhostConv        [192, 192, 3, 2]              \n",
      " 23            [-1, 12]  1         0  ultralytics.nn.modules.conv.Concat           [1]                           \n",
      " 24                  -1  2    415392  ultralytics.nn.modules.block.C3Ghost         [576, 384, 2]                 \n",
      " 25                  -1  1    669120  ultralytics.nn.modules.conv.GhostConv        [384, 384, 3, 2]              \n",
      " 26             [-1, 9]  1         0  ultralytics.nn.modules.conv.Concat           [1]                           \n",
      " 27                  -1  2    982512  ultralytics.nn.modules.block.C3Ghost         [960, 576, 2]                 \n",
      " 28    [18, 21, 24, 27]  1   2297120  ultralytics.nn.modules.head.Detect           [4, [96, 192, 384, 576]]      \n",
      "YOLOv8m-ghost summary: 731 layers, 9,002,240 parameters, 9,002,224 gradients, 42.3 GFLOPs\n",
      "\n",
      "\u001b[34m\u001b[1mTensorBoard: \u001b[0mStart with 'tensorboard --logdir runs/final-model_20241118_145453', view at http://localhost:6006/\n",
      "Freezing layer 'model.28.dfl.conv.weight'\n",
      "\u001b[34m\u001b[1mAMP: \u001b[0mrunning Automatic Mixed Precision (AMP) checks...\n",
      "Downloading https://github.com/ultralytics/assets/releases/download/v8.3.0/yolo11n.pt to 'yolo11n.pt'...\n"
     ]
    },
    {
     "name": "stderr",
     "output_type": "stream",
     "text": [
      "100%|██████████| 5.35M/5.35M [00:00<00:00, 15.0MB/s]\n"
     ]
    },
    {
     "name": "stdout",
     "output_type": "stream",
     "text": [
      "\u001b[34m\u001b[1mAMP: \u001b[0mchecks passed ✅\n"
     ]
    },
    {
     "name": "stderr",
     "output_type": "stream",
     "text": [
      "\u001b[34m\u001b[1mtrain: \u001b[0mScanning /kaggle/working/VehicleDetection/data/soict-hackathon-2024_dataset/labels/train... 10377 images, 10360 backgrounds, 0 corrupt: 100%|██████████| 20736/20736 [00:17<00:00, 1212.56it/s]"
     ]
    },
    {
     "name": "stdout",
     "output_type": "stream",
     "text": [
      "\u001b[34m\u001b[1mtrain: \u001b[0mWARNING ⚠️ /kaggle/working/VehicleDetection/data/soict-hackathon-2024_dataset/images/train/cam_01_00857.jpg: 1 duplicate labels removed\n",
      "\u001b[34m\u001b[1mtrain: \u001b[0mWARNING ⚠️ /kaggle/working/VehicleDetection/data/soict-hackathon-2024_dataset/images/train/cam_01_00961.jpg: 1 duplicate labels removed\n",
      "\u001b[34m\u001b[1mtrain: \u001b[0mWARNING ⚠️ /kaggle/working/VehicleDetection/data/soict-hackathon-2024_dataset/images/train/cam_02_00316.jpg: 1 duplicate labels removed\n",
      "\u001b[34m\u001b[1mtrain: \u001b[0mWARNING ⚠️ /kaggle/working/VehicleDetection/data/soict-hackathon-2024_dataset/images/train/cam_02_00565.jpg: 1 duplicate labels removed\n",
      "\u001b[34m\u001b[1mtrain: \u001b[0mWARNING ⚠️ /kaggle/working/VehicleDetection/data/soict-hackathon-2024_dataset/images/train/cam_02_00579.jpg: 1 duplicate labels removed\n",
      "\u001b[34m\u001b[1mtrain: \u001b[0mWARNING ⚠️ /kaggle/working/VehicleDetection/data/soict-hackathon-2024_dataset/images/train/cam_02_00951.jpg: 1 duplicate labels removed\n",
      "\u001b[34m\u001b[1mtrain: \u001b[0mWARNING ⚠️ /kaggle/working/VehicleDetection/data/soict-hackathon-2024_dataset/images/train/cam_04_00014.jpg: 1 duplicate labels removed\n",
      "\u001b[34m\u001b[1mtrain: \u001b[0mWARNING ⚠️ /kaggle/working/VehicleDetection/data/soict-hackathon-2024_dataset/images/train/cam_04_00016.jpg: 1 duplicate labels removed\n",
      "\u001b[34m\u001b[1mtrain: \u001b[0mWARNING ⚠️ /kaggle/working/VehicleDetection/data/soict-hackathon-2024_dataset/images/train/cam_04_00018.jpg: 1 duplicate labels removed\n",
      "\u001b[34m\u001b[1mtrain: \u001b[0mWARNING ⚠️ /kaggle/working/VehicleDetection/data/soict-hackathon-2024_dataset/images/train/cam_04_00022.jpg: 1 duplicate labels removed\n",
      "\u001b[34m\u001b[1mtrain: \u001b[0mWARNING ⚠️ /kaggle/working/VehicleDetection/data/soict-hackathon-2024_dataset/images/train/cam_04_00257.jpg: 1 duplicate labels removed\n",
      "\u001b[34m\u001b[1mtrain: \u001b[0mWARNING ⚠️ /kaggle/working/VehicleDetection/data/soict-hackathon-2024_dataset/images/train/cam_04_00279.jpg: 1 duplicate labels removed\n",
      "\u001b[34m\u001b[1mtrain: \u001b[0mWARNING ⚠️ /kaggle/working/VehicleDetection/data/soict-hackathon-2024_dataset/images/train/cam_04_00310.jpg: 1 duplicate labels removed\n",
      "\u001b[34m\u001b[1mtrain: \u001b[0mWARNING ⚠️ /kaggle/working/VehicleDetection/data/soict-hackathon-2024_dataset/images/train/cam_04_00328.jpg: 1 duplicate labels removed\n",
      "\u001b[34m\u001b[1mtrain: \u001b[0mWARNING ⚠️ /kaggle/working/VehicleDetection/data/soict-hackathon-2024_dataset/images/train/cam_04_00346.jpg: 1 duplicate labels removed\n",
      "\u001b[34m\u001b[1mtrain: \u001b[0mWARNING ⚠️ /kaggle/working/VehicleDetection/data/soict-hackathon-2024_dataset/images/train/cam_04_00355.jpg: 1 duplicate labels removed\n",
      "\u001b[34m\u001b[1mtrain: \u001b[0mWARNING ⚠️ /kaggle/working/VehicleDetection/data/soict-hackathon-2024_dataset/images/train/cam_04_00374.jpg: 2 duplicate labels removed\n",
      "\u001b[34m\u001b[1mtrain: \u001b[0mWARNING ⚠️ /kaggle/working/VehicleDetection/data/soict-hackathon-2024_dataset/images/train/cam_04_00514.jpg: 1 duplicate labels removed\n",
      "\u001b[34m\u001b[1mtrain: \u001b[0mWARNING ⚠️ /kaggle/working/VehicleDetection/data/soict-hackathon-2024_dataset/images/train/cam_04_00633.jpg: 1 duplicate labels removed\n",
      "\u001b[34m\u001b[1mtrain: \u001b[0mWARNING ⚠️ /kaggle/working/VehicleDetection/data/soict-hackathon-2024_dataset/images/train/cam_04_00709.jpg: 1 duplicate labels removed\n",
      "\u001b[34m\u001b[1mtrain: \u001b[0mWARNING ⚠️ /kaggle/working/VehicleDetection/data/soict-hackathon-2024_dataset/images/train/cam_04_00716.jpg: 1 duplicate labels removed\n",
      "\u001b[34m\u001b[1mtrain: \u001b[0mWARNING ⚠️ /kaggle/working/VehicleDetection/data/soict-hackathon-2024_dataset/images/train/cam_04_00915.jpg: 1 duplicate labels removed\n",
      "\u001b[34m\u001b[1mtrain: \u001b[0mWARNING ⚠️ /kaggle/working/VehicleDetection/data/soict-hackathon-2024_dataset/images/train/cam_04_00947.jpg: 1 duplicate labels removed\n",
      "\u001b[34m\u001b[1mtrain: \u001b[0mWARNING ⚠️ /kaggle/working/VehicleDetection/data/soict-hackathon-2024_dataset/images/train/cam_10_00135.jpg: 1 duplicate labels removed\n",
      "\u001b[34m\u001b[1mtrain: \u001b[0mWARNING ⚠️ /kaggle/working/VehicleDetection/data/soict-hackathon-2024_dataset/images/train/cam_10_00136.jpg: 1 duplicate labels removed\n"
     ]
    },
    {
     "name": "stderr",
     "output_type": "stream",
     "text": [
      "\n"
     ]
    },
    {
     "name": "stdout",
     "output_type": "stream",
     "text": [
      "\u001b[34m\u001b[1mtrain: \u001b[0mNew cache created: /kaggle/working/VehicleDetection/data/soict-hackathon-2024_dataset/labels/train.cache\n",
      "\u001b[34m\u001b[1mtrain: \u001b[0m80.1GB disk space required, with 50% safety margin but only 13.9/19.5GB free, not caching images to disk ⚠️\n",
      "\u001b[34m\u001b[1malbumentations: \u001b[0mBlur(p=0.01, blur_limit=(3, 7)), MedianBlur(p=0.01, blur_limit=(3, 7)), ToGray(p=0.01, num_output_channels=3, method='weighted_average'), CLAHE(p=0.01, clip_limit=(1.0, 4.0), tile_grid_size=(8, 8))\n"
     ]
    },
    {
     "name": "stderr",
     "output_type": "stream",
     "text": [
      "/opt/conda/lib/python3.10/multiprocessing/popen_fork.py:66: RuntimeWarning: os.fork() was called. os.fork() is incompatible with multithreaded code, and JAX is multithreaded, so this will likely lead to a deadlock.\n",
      "  self.pid = os.fork()\n",
      "\u001b[34m\u001b[1mval: \u001b[0mScanning /kaggle/working/VehicleDetection/data/soict-hackathon-2024_dataset/labels/val... 1143 images, 1162 backgrounds, 0 corrupt: 100%|██████████| 2305/2305 [00:01<00:00, 1222.09it/s]"
     ]
    },
    {
     "name": "stdout",
     "output_type": "stream",
     "text": [
      "\u001b[34m\u001b[1mval: \u001b[0mWARNING ⚠️ /kaggle/working/VehicleDetection/data/soict-hackathon-2024_dataset/images/val/cam_01_00317.jpg: 1 duplicate labels removed\n",
      "\u001b[34m\u001b[1mval: \u001b[0mWARNING ⚠️ /kaggle/working/VehicleDetection/data/soict-hackathon-2024_dataset/images/val/cam_04_00110.jpg: 1 duplicate labels removed\n",
      "\u001b[34m\u001b[1mval: \u001b[0mWARNING ⚠️ /kaggle/working/VehicleDetection/data/soict-hackathon-2024_dataset/images/val/cam_04_00491.jpg: 1 duplicate labels removed\n",
      "\u001b[34m\u001b[1mval: \u001b[0mWARNING ⚠️ /kaggle/working/VehicleDetection/data/soict-hackathon-2024_dataset/images/val/cam_04_00536.jpg: 1 duplicate labels removed\n",
      "\u001b[34m\u001b[1mval: \u001b[0mWARNING ⚠️ /kaggle/working/VehicleDetection/data/soict-hackathon-2024_dataset/images/val/cam_04_00881.jpg: 1 duplicate labels removed\n",
      "\u001b[34m\u001b[1mval: \u001b[0mWARNING ⚠️ /kaggle/working/VehicleDetection/data/soict-hackathon-2024_dataset/images/val/cam_06_00803.jpg: 1 duplicate labels removed\n"
     ]
    },
    {
     "name": "stderr",
     "output_type": "stream",
     "text": [
      "\n"
     ]
    },
    {
     "name": "stdout",
     "output_type": "stream",
     "text": [
      "\u001b[34m\u001b[1mval: \u001b[0mNew cache created: /kaggle/working/VehicleDetection/data/soict-hackathon-2024_dataset/labels/val.cache\n"
     ]
    },
    {
     "name": "stderr",
     "output_type": "stream",
     "text": [
      "\u001b[34m\u001b[1mval: \u001b[0mCaching images (5.9GB Disk): 100%|██████████| 2305/2305 [00:09<00:00, 253.24it/s]\n"
     ]
    },
    {
     "name": "stdout",
     "output_type": "stream",
     "text": [
      "Plotting labels to runs/final-model_20241118_145453/labels.jpg... \n",
      "\u001b[34m\u001b[1moptimizer:\u001b[0m 'optimizer=auto' found, ignoring 'lr0=0.01' and 'momentum=0.937' and determining best 'optimizer', 'lr0' and 'momentum' automatically... \n",
      "\u001b[34m\u001b[1moptimizer:\u001b[0m SGD(lr=0.01, momentum=0.9) with parameter groups 159 weight(decay=0.0), 168 weight(decay=0.0005), 167 bias(decay=0.0)\n",
      "\u001b[34m\u001b[1mTensorBoard: \u001b[0mmodel graph visualization added ✅\n",
      "Image sizes 480 train, 480 val\n",
      "Using 4 dataloader workers\n",
      "Logging results to \u001b[1mruns/final-model_20241118_145453\u001b[0m\n",
      "Starting training for 4 hours...\n",
      "\n",
      "      Epoch    GPU_mem   box_loss   cls_loss   dfl_loss    kd_loss  Instances       Size\n"
     ]
    },
    {
     "name": "stderr",
     "output_type": "stream",
     "text": [
      "      1/300      6.81G      4.009      5.089      3.962         93        544: 100%|██████████| 2592/2592 [13:48<00:00,  3.13it/s]\n",
      "                 Class     Images  Instances      Box(P          R      mAP50  mAP50-95): 100%|██████████| 145/145 [00:18<00:00,  7.88it/s]\n"
     ]
    },
    {
     "name": "stdout",
     "output_type": "stream",
     "text": [
      "                   all       2305      12788      0.105     0.0781     0.0352     0.0111\n",
      "\n",
      "      Epoch    GPU_mem   box_loss   cls_loss   dfl_loss    kd_loss  Instances       Size\n"
     ]
    },
    {
     "name": "stderr",
     "output_type": "stream",
     "text": [
      "       2/17       6.7G      2.702      3.145      2.344         99        704: 100%|██████████| 2592/2592 [12:56<00:00,  3.34it/s]\n",
      "                 Class     Images  Instances      Box(P          R      mAP50  mAP50-95): 100%|██████████| 145/145 [00:16<00:00,  8.99it/s]\n"
     ]
    },
    {
     "name": "stdout",
     "output_type": "stream",
     "text": [
      "                   all       2305      12788      0.439      0.396      0.367      0.162\n",
      "\n",
      "      Epoch    GPU_mem   box_loss   cls_loss   dfl_loss    kd_loss  Instances       Size\n"
     ]
    },
    {
     "name": "stderr",
     "output_type": "stream",
     "text": [
      "       3/18      6.89G      2.288      2.344      1.932         90        480: 100%|██████████| 2592/2592 [12:54<00:00,  3.35it/s]\n",
      "                 Class     Images  Instances      Box(P          R      mAP50  mAP50-95): 100%|██████████| 145/145 [00:15<00:00,  9.26it/s]\n"
     ]
    },
    {
     "name": "stdout",
     "output_type": "stream",
     "text": [
      "                   all       2305      12788      0.582      0.499      0.534      0.277\n",
      "\n",
      "      Epoch    GPU_mem   box_loss   cls_loss   dfl_loss    kd_loss  Instances       Size\n"
     ]
    },
    {
     "name": "stderr",
     "output_type": "stream",
     "text": [
      "       4/18      6.46G      2.112      1.968      1.771        123        544: 100%|██████████| 2592/2592 [12:40<00:00,  3.41it/s]\n",
      "                 Class     Images  Instances      Box(P          R      mAP50  mAP50-95): 100%|██████████| 145/145 [00:15<00:00,  9.22it/s]"
     ]
    },
    {
     "name": "stdout",
     "output_type": "stream",
     "text": [
      "                   all       2305      12788       0.67      0.566      0.627       0.35\n"
     ]
    },
    {
     "name": "stderr",
     "output_type": "stream",
     "text": [
      "\n"
     ]
    },
    {
     "name": "stdout",
     "output_type": "stream",
     "text": [
      "\n",
      "      Epoch    GPU_mem   box_loss   cls_loss   dfl_loss    kd_loss  Instances       Size\n"
     ]
    },
    {
     "name": "stderr",
     "output_type": "stream",
     "text": [
      "       5/18      7.06G      1.994      1.724      1.687        103        704: 100%|██████████| 2592/2592 [12:55<00:00,  3.34it/s]\n",
      "                 Class     Images  Instances      Box(P          R      mAP50  mAP50-95): 100%|██████████| 145/145 [00:15<00:00,  9.40it/s]"
     ]
    },
    {
     "name": "stdout",
     "output_type": "stream",
     "text": [
      "                   all       2305      12788      0.688      0.561      0.639       0.37\n"
     ]
    },
    {
     "name": "stderr",
     "output_type": "stream",
     "text": [
      "\n"
     ]
    },
    {
     "name": "stdout",
     "output_type": "stream",
     "text": [
      "\n",
      "      Epoch    GPU_mem   box_loss   cls_loss   dfl_loss    kd_loss  Instances       Size\n"
     ]
    },
    {
     "name": "stderr",
     "output_type": "stream",
     "text": [
      "       6/18      7.68G       1.93       1.59      1.623         93        480: 100%|██████████| 2592/2592 [12:37<00:00,  3.42it/s]\n",
      "                 Class     Images  Instances      Box(P          R      mAP50  mAP50-95): 100%|██████████| 145/145 [00:15<00:00,  9.47it/s]\n"
     ]
    },
    {
     "name": "stdout",
     "output_type": "stream",
     "text": [
      "                   all       2305      12788      0.724      0.588      0.673      0.406\n",
      "\n",
      "      Epoch    GPU_mem   box_loss   cls_loss   dfl_loss    kd_loss  Instances       Size\n"
     ]
    },
    {
     "name": "stderr",
     "output_type": "stream",
     "text": [
      "       7/19      7.67G      1.872      1.478      1.579        187        384: 100%|██████████| 2592/2592 [12:33<00:00,  3.44it/s]\n",
      "                 Class     Images  Instances      Box(P          R      mAP50  mAP50-95): 100%|██████████| 145/145 [00:15<00:00,  9.46it/s]"
     ]
    },
    {
     "name": "stdout",
     "output_type": "stream",
     "text": [
      "                   all       2305      12788      0.752      0.663      0.748       0.45\n"
     ]
    },
    {
     "name": "stderr",
     "output_type": "stream",
     "text": [
      "\n"
     ]
    },
    {
     "name": "stdout",
     "output_type": "stream",
     "text": [
      "\n",
      "      Epoch    GPU_mem   box_loss   cls_loss   dfl_loss    kd_loss  Instances       Size\n"
     ]
    },
    {
     "name": "stderr",
     "output_type": "stream",
     "text": [
      "       8/19      7.52G      1.827      1.404      1.545         80        448: 100%|██████████| 2592/2592 [12:36<00:00,  3.43it/s]\n",
      "                 Class     Images  Instances      Box(P          R      mAP50  mAP50-95): 100%|██████████| 145/145 [00:15<00:00,  9.40it/s]"
     ]
    },
    {
     "name": "stdout",
     "output_type": "stream",
     "text": [
      "                   all       2305      12788      0.783      0.695      0.777      0.483\n"
     ]
    },
    {
     "name": "stderr",
     "output_type": "stream",
     "text": [
      "\n"
     ]
    },
    {
     "name": "stdout",
     "output_type": "stream",
     "text": [
      "\n",
      "      Epoch    GPU_mem   box_loss   cls_loss   dfl_loss    kd_loss  Instances       Size\n"
     ]
    },
    {
     "name": "stderr",
     "output_type": "stream",
     "text": [
      "       9/19      6.64G      1.791      1.342      1.524         82        416: 100%|██████████| 2592/2592 [12:44<00:00,  3.39it/s]\n",
      "                 Class     Images  Instances      Box(P          R      mAP50  mAP50-95): 100%|██████████| 145/145 [00:14<00:00,  9.73it/s]\n"
     ]
    },
    {
     "name": "stdout",
     "output_type": "stream",
     "text": [
      "                   all       2305      12788      0.794       0.73       0.81      0.508\n",
      "Closing dataloader mosaic\n",
      "\u001b[34m\u001b[1malbumentations: \u001b[0mBlur(p=0.01, blur_limit=(3, 7)), MedianBlur(p=0.01, blur_limit=(3, 7)), ToGray(p=0.01, num_output_channels=3, method='weighted_average'), CLAHE(p=0.01, clip_limit=(1.0, 4.0), tile_grid_size=(8, 8))\n"
     ]
    },
    {
     "name": "stderr",
     "output_type": "stream",
     "text": [
      "/opt/conda/lib/python3.10/multiprocessing/popen_fork.py:66: RuntimeWarning: os.fork() was called. os.fork() is incompatible with multithreaded code, and JAX is multithreaded, so this will likely lead to a deadlock.\n",
      "  self.pid = os.fork()\n",
      "/opt/conda/lib/python3.10/multiprocessing/popen_fork.py:66: RuntimeWarning: os.fork() was called. os.fork() is incompatible with multithreaded code, and JAX is multithreaded, so this will likely lead to a deadlock.\n",
      "  self.pid = os.fork()\n"
     ]
    },
    {
     "name": "stdout",
     "output_type": "stream",
     "text": [
      "\n",
      "      Epoch    GPU_mem   box_loss   cls_loss   dfl_loss    kd_loss  Instances       Size\n"
     ]
    },
    {
     "name": "stderr",
     "output_type": "stream",
     "text": [
      "      10/19      6.89G      1.699      1.225      1.462         25        448: 100%|██████████| 2592/2592 [12:49<00:00,  3.37it/s]\n",
      "                 Class     Images  Instances      Box(P          R      mAP50  mAP50-95): 100%|██████████| 145/145 [00:15<00:00,  9.63it/s]"
     ]
    },
    {
     "name": "stdout",
     "output_type": "stream",
     "text": [
      "                   all       2305      12788      0.798      0.758      0.837      0.528\n"
     ]
    },
    {
     "name": "stderr",
     "output_type": "stream",
     "text": [
      "\n"
     ]
    },
    {
     "name": "stdout",
     "output_type": "stream",
     "text": [
      "\n",
      "      Epoch    GPU_mem   box_loss   cls_loss   dfl_loss    kd_loss  Instances       Size\n"
     ]
    },
    {
     "name": "stderr",
     "output_type": "stream",
     "text": [
      "      11/19      6.74G      1.669      1.164      1.436         40        576: 100%|██████████| 2592/2592 [12:43<00:00,  3.39it/s]\n",
      "                 Class     Images  Instances      Box(P          R      mAP50  mAP50-95): 100%|██████████| 145/145 [00:14<00:00,  9.74it/s]\n"
     ]
    },
    {
     "name": "stdout",
     "output_type": "stream",
     "text": [
      "                   all       2305      12788      0.817      0.765      0.842      0.536\n",
      "\n",
      "      Epoch    GPU_mem   box_loss   cls_loss   dfl_loss    kd_loss  Instances       Size\n"
     ]
    },
    {
     "name": "stderr",
     "output_type": "stream",
     "text": [
      "      12/19      6.68G       1.62      1.122      1.408         56        288: 100%|██████████| 2592/2592 [12:51<00:00,  3.36it/s]\n",
      "                 Class     Images  Instances      Box(P          R      mAP50  mAP50-95): 100%|██████████| 145/145 [00:15<00:00,  9.66it/s]\n"
     ]
    },
    {
     "name": "stdout",
     "output_type": "stream",
     "text": [
      "                   all       2305      12788      0.827      0.757      0.839       0.54\n",
      "\n",
      "      Epoch    GPU_mem   box_loss   cls_loss   dfl_loss    kd_loss  Instances       Size\n"
     ]
    },
    {
     "name": "stderr",
     "output_type": "stream",
     "text": [
      "      13/19      7.09G      1.592      1.068      1.385         57        320: 100%|██████████| 2592/2592 [12:46<00:00,  3.38it/s]\n",
      "                 Class     Images  Instances      Box(P          R      mAP50  mAP50-95): 100%|██████████| 145/145 [00:14<00:00,  9.87it/s]\n"
     ]
    },
    {
     "name": "stdout",
     "output_type": "stream",
     "text": [
      "                   all       2305      12788      0.825      0.747      0.834      0.542\n",
      "\n",
      "      Epoch    GPU_mem   box_loss   cls_loss   dfl_loss    kd_loss  Instances       Size\n"
     ]
    },
    {
     "name": "stderr",
     "output_type": "stream",
     "text": [
      "      14/19      6.92G      1.564      1.034      1.369         23        512: 100%|██████████| 2592/2592 [12:47<00:00,  3.38it/s]\n",
      "                 Class     Images  Instances      Box(P          R      mAP50  mAP50-95): 100%|██████████| 145/145 [00:14<00:00,  9.88it/s]"
     ]
    },
    {
     "name": "stdout",
     "output_type": "stream",
     "text": [
      "                   all       2305      12788      0.832      0.791      0.864      0.563\n"
     ]
    },
    {
     "name": "stderr",
     "output_type": "stream",
     "text": [
      "\n"
     ]
    },
    {
     "name": "stdout",
     "output_type": "stream",
     "text": [
      "\n",
      "      Epoch    GPU_mem   box_loss   cls_loss   dfl_loss    kd_loss  Instances       Size\n"
     ]
    },
    {
     "name": "stderr",
     "output_type": "stream",
     "text": [
      "      15/19      7.13G      1.534     0.9991      1.355         19        256: 100%|██████████| 2592/2592 [12:52<00:00,  3.36it/s]\n",
      "                 Class     Images  Instances      Box(P          R      mAP50  mAP50-95): 100%|██████████| 145/145 [00:14<00:00, 10.06it/s]\n"
     ]
    },
    {
     "name": "stdout",
     "output_type": "stream",
     "text": [
      "                   all       2305      12788      0.843       0.78      0.867      0.566\n",
      "\n",
      "      Epoch    GPU_mem   box_loss   cls_loss   dfl_loss    kd_loss  Instances       Size\n"
     ]
    },
    {
     "name": "stderr",
     "output_type": "stream",
     "text": [
      "      16/19       8.2G      1.522      0.978      1.342        155        320: 100%|██████████| 2592/2592 [12:43<00:00,  3.40it/s]\n",
      "                 Class     Images  Instances      Box(P          R      mAP50  mAP50-95): 100%|██████████| 145/145 [00:15<00:00,  9.64it/s]\n"
     ]
    },
    {
     "name": "stdout",
     "output_type": "stream",
     "text": [
      "                   all       2305      12788      0.839      0.792       0.87      0.577\n",
      "\n",
      "      Epoch    GPU_mem   box_loss   cls_loss   dfl_loss    kd_loss  Instances       Size\n"
     ]
    },
    {
     "name": "stderr",
     "output_type": "stream",
     "text": [
      "      17/19      7.52G      1.501     0.9573       1.33         65        640: 100%|██████████| 2592/2592 [12:42<00:00,  3.40it/s]\n",
      "                 Class     Images  Instances      Box(P          R      mAP50  mAP50-95): 100%|██████████| 145/145 [00:14<00:00,  9.96it/s]\n"
     ]
    },
    {
     "name": "stdout",
     "output_type": "stream",
     "text": [
      "                   all       2305      12788      0.838      0.796       0.87      0.576\n",
      "\n",
      "      Epoch    GPU_mem   box_loss   cls_loss   dfl_loss    kd_loss  Instances       Size\n"
     ]
    },
    {
     "name": "stderr",
     "output_type": "stream",
     "text": [
      "      18/19      6.73G      1.484     0.9422      1.316         79        704: 100%|██████████| 2592/2592 [12:37<00:00,  3.42it/s]\n",
      "                 Class     Images  Instances      Box(P          R      mAP50  mAP50-95): 100%|██████████| 145/145 [00:14<00:00, 10.04it/s]\n"
     ]
    },
    {
     "name": "stdout",
     "output_type": "stream",
     "text": [
      "                   all       2305      12788      0.841        0.8      0.874       0.58\n",
      "\n",
      "      Epoch    GPU_mem   box_loss   cls_loss   dfl_loss    kd_loss  Instances       Size\n"
     ]
    },
    {
     "name": "stderr",
     "output_type": "stream",
     "text": [
      "      19/19      7.31G      1.476     0.9324      1.311         58        224:  32%|███▏      | 820/2592 [04:00<08:40,  3.40it/s]\n",
      "                 Class     Images  Instances      Box(P          R      mAP50  mAP50-95): 100%|██████████| 145/145 [00:14<00:00, 10.01it/s]\n"
     ]
    },
    {
     "name": "stdout",
     "output_type": "stream",
     "text": [
      "                   all       2305      12788      0.845      0.797      0.876      0.581\n",
      "\n",
      "19 epochs completed in 4.005 hours.\n",
      "Optimizer stripped from runs/final-model_20241118_145453/weights/last.pt, 18.6MB\n",
      "Optimizer stripped from runs/final-model_20241118_145453/weights/best.pt, 18.6MB\n",
      "\n",
      "Validating runs/final-model_20241118_145453/weights/best.pt...\n",
      "WARNING ⚠️ validating an untrained model YAML will result in 0 mAP.\n",
      "Ultralytics 8.3.32 🚀 Python-3.10.14 torch-2.4.0 CUDA:0 (Tesla P100-PCIE-16GB, 16269MiB)\n",
      "YOLOv8m-ghost summary (fused): 572 layers, 8,986,512 parameters, 0 gradients, 41.8 GFLOPs\n"
     ]
    },
    {
     "name": "stderr",
     "output_type": "stream",
     "text": [
      "                 Class     Images  Instances      Box(P          R      mAP50  mAP50-95): 100%|██████████| 145/145 [00:31<00:00,  4.61it/s]\n"
     ]
    },
    {
     "name": "stdout",
     "output_type": "stream",
     "text": [
      "                   all       2305      12788      0.825      0.792      0.868      0.573\n",
      "             motorbike       1022       8054      0.861      0.783      0.883      0.493\n",
      "                   car        793       2641      0.867      0.849       0.92      0.621\n",
      "                   bus        416        613      0.796      0.713      0.804      0.579\n",
      "                 truck        639       1480      0.777      0.824      0.868      0.599\n",
      "Speed: 0.1ms preprocess, 10.4ms inference, 0.0ms loss, 0.7ms postprocess per image\n",
      "Results saved to \u001b[1mruns/final-model_20241118_145453\u001b[0m\n",
      "Updating model n24q02m/final-vehicle-detection-model...\n",
      "Starting upload for file best.pt\n"
     ]
    },
    {
     "name": "stderr",
     "output_type": "stream",
     "text": [
      "100%|██████████| 17.7M/17.7M [00:03<00:00, 6.01MB/s]\n"
     ]
    },
    {
     "name": "stdout",
     "output_type": "stream",
     "text": [
      "Upload successful: best.pt (18MB)\n",
      "Starting upload for file last.pt\n"
     ]
    },
    {
     "name": "stderr",
     "output_type": "stream",
     "text": [
      "100%|██████████| 17.7M/17.7M [00:03<00:00, 6.15MB/s]\n"
     ]
    },
    {
     "name": "stdout",
     "output_type": "stream",
     "text": [
      "Upload successful: last.pt (18MB)\n"
     ]
    },
    {
     "name": "stderr",
     "output_type": "stream",
     "text": [
      "/opt/conda/lib/python3.10/multiprocessing/popen_fork.py:66: RuntimeWarning: os.fork() was called. os.fork() is incompatible with multithreaded code, and JAX is multithreaded, so this will likely lead to a deadlock.\n",
      "  self.pid = os.fork()\n"
     ]
    },
    {
     "name": "stdout",
     "output_type": "stream",
     "text": [
      "Model updated successfully\n"
     ]
    }
   ],
   "source": [
    "from src.training.train import main as train_main\n",
    "\n",
    "train_main(train_mode=\"continue\", train_time=14, train_batch=8)"
   ]
  },
  {
   "cell_type": "code",
   "execution_count": null,
   "id": "013bda79",
   "metadata": {
    "execution": {
     "iopub.execute_input": "2024-11-18T18:57:21.725186Z",
     "iopub.status.busy": "2024-11-18T18:57:21.724755Z",
     "iopub.status.idle": "2024-11-18T18:57:36.264927Z",
     "shell.execute_reply": "2024-11-18T18:57:36.263638Z"
    },
    "papermill": {
     "duration": 22.820887,
     "end_time": "2024-11-18T18:57:36.267489",
     "exception": false,
     "start_time": "2024-11-18T18:57:13.446602",
     "status": "completed"
    },
    "tags": []
   },
   "outputs": [
    {
     "name": "stderr",
     "output_type": "stream",
     "text": [
      "/opt/conda/lib/python3.10/pty.py:89: RuntimeWarning: os.fork() was called. os.fork() is incompatible with multithreaded code, and JAX is multithreaded, so this will likely lead to a deadlock.\n",
      "  pid, fd = os.forkpty()\n"
     ]
    },
    {
     "name": "stdout",
     "output_type": "stream",
     "text": [
      "On branch main\r\n",
      "Untracked files:\r\n",
      "  (use \"git add <file>...\" to include in what will be committed)\r\n",
      "\t\u001b[31mruns/final-model_20241118_145453/\u001b[m\r\n",
      "\r\n",
      "nothing added to commit but untracked files present (use \"git add\" to track)\r\n",
      "[main d48d4949] refactor: Update runs directory with new training results\r\n",
      " 21 files changed, 127 insertions(+)\r\n",
      " create mode 100644 runs/final-model_20241118_145453/F1_curve.png\r\n",
      " create mode 100644 runs/final-model_20241118_145453/PR_curve.png\r\n",
      " create mode 100644 runs/final-model_20241118_145453/P_curve.png\r\n",
      " create mode 100644 runs/final-model_20241118_145453/R_curve.png\r\n",
      " create mode 100644 runs/final-model_20241118_145453/args.yaml\r\n",
      " create mode 100644 runs/final-model_20241118_145453/confusion_matrix.png\r\n",
      " create mode 100644 runs/final-model_20241118_145453/confusion_matrix_normalized.png\r\n",
      " create mode 100644 runs/final-model_20241118_145453/events.out.tfevents.1731941715.b70b5c529670.24.0\r\n",
      " create mode 100644 runs/final-model_20241118_145453/labels.jpg\r\n",
      " create mode 100644 runs/final-model_20241118_145453/labels_correlogram.jpg\r\n",
      " create mode 100644 runs/final-model_20241118_145453/results.csv\r\n",
      " create mode 100644 runs/final-model_20241118_145453/results.png\r\n",
      " create mode 100644 runs/final-model_20241118_145453/train_batch0.jpg\r\n",
      " create mode 100644 runs/final-model_20241118_145453/train_batch1.jpg\r\n",
      " create mode 100644 runs/final-model_20241118_145453/train_batch2.jpg\r\n",
      " create mode 100644 runs/final-model_20241118_145453/val_batch0_labels.jpg\r\n",
      " create mode 100644 runs/final-model_20241118_145453/val_batch0_pred.jpg\r\n",
      " create mode 100644 runs/final-model_20241118_145453/val_batch1_labels.jpg\r\n",
      " create mode 100644 runs/final-model_20241118_145453/val_batch1_pred.jpg\r\n",
      " create mode 100644 runs/final-model_20241118_145453/val_batch2_labels.jpg\r\n",
      " create mode 100644 runs/final-model_20241118_145453/val_batch2_pred.jpg\r\n",
      "Enumerating objects: 27, done.\r\n",
      "Counting objects: 100% (27/27), done.\r\n",
      "Delta compression using up to 4 threads\r\n",
      "Compressing objects: 100% (25/25), done.\r\n",
      "Writing objects: 100% (25/25), 5.24 MiB | 4.45 MiB/s, done.\r\n",
      "Total 25 (delta 3), reused 5 (delta 0), pack-reused 0\r\n",
      "remote: Resolving deltas: 100% (3/3), completed with 2 local objects.\u001b[K\r\n",
      "To https://github.com/n24q02m/VehicleDetection.git\r\n",
      "   c0f887e6..d48d4949  main -> main\r\n"
     ]
    }
   ],
   "source": [
    "from src.utils.gitaction import git_push_changes\n",
    "\n",
    "git_push_changes(\"refactor: Update after run in notebook\")"
   ]
  },
  {
   "cell_type": "code",
   "execution_count": null,
   "id": "402dfa40",
   "metadata": {
    "execution": {},
    "papermill": {
     "duration": 9.500217,
     "end_time": "2024-11-18T18:57:54.181241",
     "exception": false,
     "start_time": "2024-11-18T18:57:44.681024",
     "status": "completed"
    },
    "tags": []
   },
   "outputs": [],
   "source": [
    "import os\n",
    "\n",
    "os._exit(0)"
   ]
  }
 ],
 "metadata": {
  "kaggle": {
   "accelerator": "gpu",
   "dataSources": [],
   "dockerImageVersionId": 30787,
   "isGpuEnabled": true,
   "isInternetEnabled": true,
   "language": "python",
   "sourceType": "notebook"
  },
  "kernelspec": {
   "display_name": "vehicle-detection",
   "language": "python",
   "name": "python3"
  },
  "language_info": {
   "name": "python",
   "version": "3.10.15"
  },
  "papermill": {
   "default_parameters": {},
   "duration": 14922.471736,
   "end_time": "2024-11-18T18:58:02.756442",
   "environment_variables": {},
   "exception": null,
   "input_path": "__notebook__.ipynb",
   "output_path": "__notebook__.ipynb",
   "parameters": {},
   "start_time": "2024-11-18T14:49:20.284706",
   "version": "2.6.0"
  }
 },
 "nbformat": 4,
 "nbformat_minor": 5
}
