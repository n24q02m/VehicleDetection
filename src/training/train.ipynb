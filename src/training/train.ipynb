{
 "cells": [
  {
   "cell_type": "code",
   "execution_count": null,
   "metadata": {},
   "outputs": [],
   "source": [
    "!pip install ultralytics kaggle tqdm albumentations"
   ]
  },
  {
   "cell_type": "code",
   "execution_count": null,
   "metadata": {},
   "outputs": [],
   "source": [
    "!git clone https://github.com/n24q02m/VehicleDetection.git\n",
    "%cd VehicleDetection"
   ]
  },
  {
   "cell_type": "code",
   "execution_count": null,
   "metadata": {},
   "outputs": [],
   "source": [
    "import os\n",
    "import kaggle\n",
    "from kaggle.api.kaggle_api_extended import KaggleApi\n",
    "from kaggle_secrets import UserSecretsClient"
   ]
  },
  {
   "cell_type": "code",
   "execution_count": null,
   "metadata": {},
   "outputs": [],
   "source": [
    "# Set up Kaggle credentials\n",
    "os.makedirs('/root/.config/kaggle', exist_ok=True)\n",
    "\n",
    "user_secrets = UserSecretsClient()\n",
    "kaggle_username = user_secrets.get_secret(\"kaggle_username\")\n",
    "kaggle_key = user_secrets.get_secret(\"kaggle_key\")\n",
    "\n",
    "import json\n",
    "token = {\"username\": kaggle_username, \"key\": kaggle_key}\n",
    "with open('/root/.config/kaggle/kaggle.json', 'w') as f:\n",
    "    json.dump(token, f)\n",
    "\n",
    "!chmod 600 /root/.config/kaggle/kaggle.json"
   ]
  },
  {
   "cell_type": "code",
   "execution_count": null,
   "metadata": {},
   "outputs": [],
   "source": [
    "# Download dataset from Kaggle\n",
    "dataset_dir = \"./data/soict-hackathon-2024_dataset\"\n",
    "dataset_name = \"n24q02m/augmented-vehicle-detection-dataset\"\n",
    "\n",
    "os.makedirs(dataset_dir, exist_ok=True)\n",
    "print(f\"Downloading dataset {dataset_name}...\")\n",
    "kaggle.api.dataset_download_files(dataset_name, path=dataset_dir, unzip=True)\n",
    "print(\"Dataset downloaded and extracted.\")"
   ]
  },
  {
   "cell_type": "code",
   "execution_count": null,
   "metadata": {},
   "outputs": [],
   "source": [
    "# Download pre-trained model from Kaggle\n",
    "model_dir = \"./runs/finetune_yolo11x/weights\"\n",
    "model_name = \"n24q02m/finetuned-vehicle-detection-model\"\n",
    "\n",
    "os.makedirs(model_dir, exist_ok=True)\n",
    "print(f\"Downloading model {model_name}...\")\n",
    "kaggle.api.dataset_download_files(model_name, path=model_dir, unzip=True)\n",
    "print(\"Pre-trained model downloaded.\")"
   ]
  },
  {
   "cell_type": "code",
   "execution_count": null,
   "metadata": {},
   "outputs": [],
   "source": [
    "!python train.py"
   ]
  },
  {
   "cell_type": "code",
   "execution_count": null,
   "metadata": {},
   "outputs": [],
   "source": [
    "# Update final model on Kaggle\n",
    "final_model_name = \"n24q02m/final-vehicle-detection-model\"\n",
    "final_model_dir = \"./runs/final-model\"\n",
    "\n",
    "metadata = {\n",
    "    \"title\": \"Final Vehicle Detection Model\",\n",
    "    \"id\": f\"{final_model_name}\",\n",
    "    \"licenses\": [{\"name\": \"CC0-1.0\"}]\n",
    "}\n",
    "\n",
    "with open(os.path.join(final_model_dir, \"dataset-metadata.json\"), \"w\") as f:\n",
    "    json.dump(metadata, f)\n",
    "    \n",
    "print(f\"Updating model {final_model_name}...\")\n",
    "kaggle.api.dataset_create_version(final_model_dir, version_notes=\"Updated model\")\n",
    "print(\"Final model updated successfully\")"
   ]
  }
 ],
 "metadata": {
  "kernelspec": {
   "display_name": "vehicle-detection",
   "language": "python",
   "name": "python3"
  },
  "language_info": {
   "name": "python",
   "version": "3.10.15"
  }
 },
 "nbformat": 4,
 "nbformat_minor": 2
}
