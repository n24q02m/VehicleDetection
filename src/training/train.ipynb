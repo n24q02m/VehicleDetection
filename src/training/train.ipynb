{
 "cells": [
  {
   "cell_type": "code",
   "execution_count": null,
   "metadata": {},
   "outputs": [],
   "source": [
    "!pip install ultralytics kaggle tqdm albumentations"
   ]
  },
  {
   "cell_type": "code",
   "execution_count": null,
   "metadata": {},
   "outputs": [],
   "source": [
    "import os\n",
    "import shutil\n",
    "\n",
    "kaggle_json_src = \"/kaggle/input/kaggle.json\"\n",
    "kaggle_json_dest = \"/root/.kaggle/kaggle.json\"\n",
    "\n",
    "if os.path.exists(kaggle_json_src):\n",
    "    os.makedirs(\"/root/.kaggle/\", exist_ok=True)\n",
    "    shutil.copyfile(kaggle_json_src, kaggle_json_dest)\n",
    "    os.chmod(kaggle_json_dest, 0o600)\n",
    "else:\n",
    "    print(\"kaggle.json not found. Please add it to the notebook inputs.\")"
   ]
  },
  {
   "cell_type": "code",
   "execution_count": null,
   "metadata": {},
   "outputs": [],
   "source": [
    "!git clone https://github.com/n24q02m/VehicleDetection.git\n",
    "%cd VehicleDetection"
   ]
  },
  {
   "cell_type": "code",
   "execution_count": null,
   "metadata": {},
   "outputs": [],
   "source": [
    "import os\n",
    "import sys\n",
    "\n",
    "repo_path = \"/kaggle/working/VehicleDetection\"\n",
    "if repo_path not in sys.path:\n",
    "    sys.path.append(repo_path)"
   ]
  },
  {
   "cell_type": "code",
   "execution_count": null,
   "metadata": {},
   "outputs": [],
   "source": [
    "from src.training.train import main as train_main\n",
    "\n",
    "# Hoặc gọi hàm train_main()\n",
    "train_main()"
   ]
  }
 ],
 "metadata": {
  "kernelspec": {
   "display_name": "vehicle-detection",
   "language": "python",
   "name": "python3"
  },
  "language_info": {
   "name": "python",
   "version": "3.10.15"
  }
 },
 "nbformat": 4,
 "nbformat_minor": 2
}
