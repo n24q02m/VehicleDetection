{
 "cells": [
  {
   "cell_type": "code",
   "execution_count": null,
   "metadata": {},
   "outputs": [],
   "source": [
    "!pip install ultralytics kaggle tqdm albumentations"
   ]
  },
  {
   "cell_type": "code",
   "execution_count": null,
   "metadata": {},
   "outputs": [],
   "source": [
    "!git clone https://github.com/n24q02m/VehicleDetection.git\n",
    "%cd VehicleDetection"
   ]
  },
  {
   "cell_type": "code",
   "execution_count": null,
   "metadata": {},
   "outputs": [],
   "source": [
    "# Set up Kaggle credentials\n",
    "import os\n",
    "os.makedirs('/root/.config/kaggle', exist_ok=True)\n",
    "\n",
    "from kaggle_secrets import UserSecretsClient\n",
    "user_secrets = UserSecretsClient()\n",
    "kaggle_username = user_secrets.get_secret(\"kaggle_username\") \n",
    "kaggle_key = user_secrets.get_secret(\"kaggle_key\")\n",
    "\n",
    "import json\n",
    "token = {\"username\": kaggle_username, \"key\": kaggle_key}\n",
    "with open('/root/.config/kaggle/kaggle.json', 'w') as f:\n",
    "    json.dump(token, f)\n",
    "\n",
    "!chmod 600 /root/.config/kaggle/kaggle.json"
   ]
  },
  {
   "cell_type": "code",
   "execution_count": null,
   "metadata": {},
   "outputs": [],
   "source": [
    "# Download dataset from Kaggle\n",
    "import kaggle\n",
    "from kaggle.api.kaggle_api_extended import KaggleApi\n",
    "\n",
    "dataset_dir = \"./data/soict-hackathon-2024_dataset\"\n",
    "dataset_name = \"n24q02m/augmented-vehicle-detection-dataset\"\n",
    "\n",
    "os.makedirs(dataset_dir, exist_ok=True)\n",
    "\n",
    "print(f\"Downloading dataset {dataset_name}...\")\n",
    "kaggle.api.dataset_download_files(dataset_name, path=dataset_dir, unzip=True)\n",
    "print(\"Dataset downloaded and extracted.\")"
   ]
  },
  {
   "cell_type": "code",
   "execution_count": null,
   "metadata": {},
   "outputs": [],
   "source": [
    "!python finetune.py"
   ]
  },
  {
   "cell_type": "code",
   "execution_count": null,
   "metadata": {},
   "outputs": [],
   "source": [
    "# Update model on Kaggle\n",
    "model_name = \"n24q02m/finetuned-vehicle-detection-model\"\n",
    "model_dir = \"./runs/finetuned-model\"\n",
    "\n",
    "metadata = {\n",
    "    \"title\": \"Finetuned Vehicle Detection Model\",\n",
    "    \"id\": f\"{model_name}\",\n",
    "    \"licenses\": [{\"name\": \"CC0-1.0\"}]\n",
    "}\n",
    "\n",
    "with open(os.path.join(model_dir, \"dataset-metadata.json\"), \"w\") as f:\n",
    "    json.dump(metadata, f)\n",
    "\n",
    "print(f\"Updating model {model_name}...\")\n",
    "kaggle.api.dataset_create_version(model_dir, version_notes=\"Updated model\")\n",
    "print(\"Model updated successfully\")"
   ]
  }
 ],
 "metadata": {
  "kernelspec": {
   "display_name": "vehicle-detection",
   "language": "python",
   "name": "python3"
  },
  "language_info": {
   "name": "python",
   "version": "3.10.15"
  }
 },
 "nbformat": 4,
 "nbformat_minor": 2
}
