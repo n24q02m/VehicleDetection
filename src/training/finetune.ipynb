{
 "cells": [
  {
   "cell_type": "code",
   "execution_count": null,
   "metadata": {},
   "outputs": [],
   "source": [
    "!pip install ultralytics gdown tqdm albumentations\n",
    "!git clone https://github.com/n24q02m/VehicleDetection.git"
   ]
  },
  {
   "cell_type": "code",
   "execution_count": null,
   "metadata": {},
   "outputs": [],
   "source": [
    "!cp /kaggle/working/VehicleDetection/patches/check.py /usr/local/lib/python3.*/dist-packages/ultralytics/utils/check.py\n",
    "!cp /kaggle/working/VehicleDetection/patches/task.py /usr/local/lib/python3.*/dist-packages/ultralytics/nn/tasks.py\n",
    "!cp /kaggle/working/VehicleDetection/patches/modules_init.py /usr/local/lib/python3.*/dist-packages/ultralytics/nn/modules/__init__.py\n",
    "!cp /kaggle/working/VehicleDetection/patches/conv.py /usr/local/lib/python3.*/dist-packages/ultralytics/nn/modules/conv.py"
   ]
  },
  {
   "cell_type": "code",
   "execution_count": null,
   "metadata": {},
   "outputs": [],
   "source": [
    "from ultralytics import YOLO\n",
    "from VehicleDetection.src.training.train import read_augmentation_parameters"
   ]
  },
  {
   "cell_type": "code",
   "execution_count": null,
   "metadata": {},
   "outputs": [],
   "source": [
    "# Configure paths for Kaggle\n",
    "model_name = \"/kaggle/working/VehicleDetection/models/yolo11x.pt\"\n",
    "data_dir = \"/kaggle/working/VehicleDetection/data/soict-hackathon-2024_dataset\"\n",
    "train_project = \"/kaggle/working/VehicleDetection/runs\"\n",
    "train_name = \"finetune_yolo11x\"\n",
    "\n",
    "# Read augmentation parameters\n",
    "augmentation_params = read_augmentation_parameters(\n",
    "    \"/kaggle/working/VehicleDetection/runs/mosaic_erasing.txt\"\n",
    ")\n",
    "\n",
    "# Initialize model\n",
    "model = YOLO(model_name)\n",
    "\n",
    "# Training parameters optimized for Kaggle\n",
    "train_params = {\n",
    "    \"data\": f\"{data_dir}/data.yaml\",\n",
    "    \"epochs\": 600,\n",
    "    \"time\": 8,  # 8 hours max for Kaggle session\n",
    "    \"batch\": 0.9,  # Use 90% of GPU memory\n",
    "    \"cache\": True,  # Cache in RAM\n",
    "    \"device\": 0,\n",
    "    \"project\": train_project,\n",
    "    \"name\": train_name,\n",
    "    \"exist_ok\": True,\n",
    "    \"optimizer\": \"auto\",\n",
    "    \"seed\": 42,\n",
    "    \"cos_lr\": True,\n",
    "    \"fraction\": 0.1,\n",
    "    \"multi_scale\": True,\n",
    "    \"augment\": True,\n",
    "    \"show\": True,\n",
    "    \"label_smoothing\": 0.1,\n",
    "    **augmentation_params,\n",
    "}\n",
    "\n",
    "# Start training\n",
    "model.train(**train_params)"
   ]
  }
 ],
 "metadata": {
  "kernelspec": {
   "display_name": "vehicle-detection",
   "language": "python",
   "name": "python3"
  },
  "language_info": {
   "name": "python",
   "version": "3.10.15"
  }
 },
 "nbformat": 4,
 "nbformat_minor": 2
}
