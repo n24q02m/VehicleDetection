{
 "cells": [
  {
   "cell_type": "code",
   "execution_count": 1,
   "id": "5b49e99f",
   "metadata": {
    "execution": {
     "iopub.execute_input": "2024-11-16T09:21:20.350222Z",
     "iopub.status.busy": "2024-11-16T09:21:20.349765Z",
     "iopub.status.idle": "2024-11-16T09:21:34.369035Z",
     "shell.execute_reply": "2024-11-16T09:21:34.368113Z"
    },
    "papermill": {
     "duration": 14.02592,
     "end_time": "2024-11-16T09:21:34.371466",
     "exception": false,
     "start_time": "2024-11-16T09:21:20.345546",
     "status": "completed"
    },
    "tags": []
   },
   "outputs": [
    {
     "name": "stdout",
     "output_type": "stream",
     "text": [
      "Collecting ultralytics\r\n",
      "  Downloading ultralytics-8.3.31-py3-none-any.whl.metadata (35 kB)\r\n",
      "Requirement already satisfied: kaggle in /opt/conda/lib/python3.10/site-packages (1.6.17)\r\n",
      "Requirement already satisfied: tqdm in /opt/conda/lib/python3.10/site-packages (4.66.4)\r\n",
      "Requirement already satisfied: albumentations in /opt/conda/lib/python3.10/site-packages (1.4.17)\r\n",
      "Requirement already satisfied: numpy>=1.23.0 in /opt/conda/lib/python3.10/site-packages (from ultralytics) (1.26.4)\r\n",
      "Requirement already satisfied: matplotlib>=3.3.0 in /opt/conda/lib/python3.10/site-packages (from ultralytics) (3.7.5)\r\n",
      "Requirement already satisfied: opencv-python>=4.6.0 in /opt/conda/lib/python3.10/site-packages (from ultralytics) (4.10.0.84)\r\n",
      "Requirement already satisfied: pillow>=7.1.2 in /opt/conda/lib/python3.10/site-packages (from ultralytics) (10.3.0)\r\n",
      "Requirement already satisfied: pyyaml>=5.3.1 in /opt/conda/lib/python3.10/site-packages (from ultralytics) (6.0.2)\r\n",
      "Requirement already satisfied: requests>=2.23.0 in /opt/conda/lib/python3.10/site-packages (from ultralytics) (2.32.3)\r\n",
      "Requirement already satisfied: scipy>=1.4.1 in /opt/conda/lib/python3.10/site-packages (from ultralytics) (1.14.1)\r\n",
      "Requirement already satisfied: torch>=1.8.0 in /opt/conda/lib/python3.10/site-packages (from ultralytics) (2.4.0)\r\n",
      "Requirement already satisfied: torchvision>=0.9.0 in /opt/conda/lib/python3.10/site-packages (from ultralytics) (0.19.0)\r\n",
      "Requirement already satisfied: psutil in /opt/conda/lib/python3.10/site-packages (from ultralytics) (5.9.3)\r\n",
      "Requirement already satisfied: py-cpuinfo in /opt/conda/lib/python3.10/site-packages (from ultralytics) (9.0.0)\r\n",
      "Requirement already satisfied: pandas>=1.1.4 in /opt/conda/lib/python3.10/site-packages (from ultralytics) (2.2.2)\r\n",
      "Requirement already satisfied: seaborn>=0.11.0 in /opt/conda/lib/python3.10/site-packages (from ultralytics) (0.12.2)\r\n",
      "Collecting ultralytics-thop>=2.0.0 (from ultralytics)\r\n",
      "  Downloading ultralytics_thop-2.0.11-py3-none-any.whl.metadata (9.4 kB)\r\n",
      "Requirement already satisfied: six>=1.10 in /opt/conda/lib/python3.10/site-packages (from kaggle) (1.16.0)\r\n",
      "Requirement already satisfied: certifi>=2023.7.22 in /opt/conda/lib/python3.10/site-packages (from kaggle) (2024.8.30)\r\n",
      "Requirement already satisfied: python-dateutil in /opt/conda/lib/python3.10/site-packages (from kaggle) (2.9.0.post0)\r\n",
      "Requirement already satisfied: python-slugify in /opt/conda/lib/python3.10/site-packages (from kaggle) (8.0.4)\r\n",
      "Requirement already satisfied: urllib3 in /opt/conda/lib/python3.10/site-packages (from kaggle) (1.26.18)\r\n",
      "Requirement already satisfied: bleach in /opt/conda/lib/python3.10/site-packages (from kaggle) (6.1.0)\r\n",
      "Requirement already satisfied: scikit-image>=0.21.0 in /opt/conda/lib/python3.10/site-packages (from albumentations) (0.23.2)\r\n",
      "Requirement already satisfied: pydantic>=2.7.0 in /opt/conda/lib/python3.10/site-packages (from albumentations) (2.9.2)\r\n",
      "Requirement already satisfied: albucore==0.0.17 in /opt/conda/lib/python3.10/site-packages (from albumentations) (0.0.17)\r\n",
      "Requirement already satisfied: eval-type-backport in /opt/conda/lib/python3.10/site-packages (from albumentations) (0.2.0)\r\n",
      "Requirement already satisfied: opencv-python-headless>=4.9.0.80 in /opt/conda/lib/python3.10/site-packages (from albumentations) (4.10.0.84)\r\n",
      "Requirement already satisfied: contourpy>=1.0.1 in /opt/conda/lib/python3.10/site-packages (from matplotlib>=3.3.0->ultralytics) (1.2.1)\r\n",
      "Requirement already satisfied: cycler>=0.10 in /opt/conda/lib/python3.10/site-packages (from matplotlib>=3.3.0->ultralytics) (0.12.1)\r\n",
      "Requirement already satisfied: fonttools>=4.22.0 in /opt/conda/lib/python3.10/site-packages (from matplotlib>=3.3.0->ultralytics) (4.53.0)\r\n",
      "Requirement already satisfied: kiwisolver>=1.0.1 in /opt/conda/lib/python3.10/site-packages (from matplotlib>=3.3.0->ultralytics) (1.4.5)\r\n",
      "Requirement already satisfied: packaging>=20.0 in /opt/conda/lib/python3.10/site-packages (from matplotlib>=3.3.0->ultralytics) (21.3)\r\n",
      "Requirement already satisfied: pyparsing>=2.3.1 in /opt/conda/lib/python3.10/site-packages (from matplotlib>=3.3.0->ultralytics) (3.1.2)\r\n",
      "Requirement already satisfied: pytz>=2020.1 in /opt/conda/lib/python3.10/site-packages (from pandas>=1.1.4->ultralytics) (2024.1)\r\n",
      "Requirement already satisfied: tzdata>=2022.7 in /opt/conda/lib/python3.10/site-packages (from pandas>=1.1.4->ultralytics) (2024.1)\r\n",
      "Requirement already satisfied: annotated-types>=0.6.0 in /opt/conda/lib/python3.10/site-packages (from pydantic>=2.7.0->albumentations) (0.7.0)\r\n",
      "Requirement already satisfied: pydantic-core==2.23.4 in /opt/conda/lib/python3.10/site-packages (from pydantic>=2.7.0->albumentations) (2.23.4)\r\n",
      "Requirement already satisfied: typing-extensions>=4.6.1 in /opt/conda/lib/python3.10/site-packages (from pydantic>=2.7.0->albumentations) (4.12.2)\r\n",
      "Requirement already satisfied: charset-normalizer<4,>=2 in /opt/conda/lib/python3.10/site-packages (from requests>=2.23.0->ultralytics) (3.3.2)\r\n",
      "Requirement already satisfied: idna<4,>=2.5 in /opt/conda/lib/python3.10/site-packages (from requests>=2.23.0->ultralytics) (3.7)\r\n",
      "Requirement already satisfied: networkx>=2.8 in /opt/conda/lib/python3.10/site-packages (from scikit-image>=0.21.0->albumentations) (3.3)\r\n",
      "Requirement already satisfied: imageio>=2.33 in /opt/conda/lib/python3.10/site-packages (from scikit-image>=0.21.0->albumentations) (2.34.1)\r\n",
      "Requirement already satisfied: tifffile>=2022.8.12 in /opt/conda/lib/python3.10/site-packages (from scikit-image>=0.21.0->albumentations) (2024.5.22)\r\n",
      "Requirement already satisfied: lazy-loader>=0.4 in /opt/conda/lib/python3.10/site-packages (from scikit-image>=0.21.0->albumentations) (0.4)\r\n",
      "Requirement already satisfied: filelock in /opt/conda/lib/python3.10/site-packages (from torch>=1.8.0->ultralytics) (3.15.1)\r\n",
      "Requirement already satisfied: sympy in /opt/conda/lib/python3.10/site-packages (from torch>=1.8.0->ultralytics) (1.13.3)\r\n",
      "Requirement already satisfied: jinja2 in /opt/conda/lib/python3.10/site-packages (from torch>=1.8.0->ultralytics) (3.1.4)\r\n",
      "Requirement already satisfied: fsspec in /opt/conda/lib/python3.10/site-packages (from torch>=1.8.0->ultralytics) (2024.6.1)\r\n",
      "Requirement already satisfied: webencodings in /opt/conda/lib/python3.10/site-packages (from bleach->kaggle) (0.5.1)\r\n",
      "Requirement already satisfied: text-unidecode>=1.3 in /opt/conda/lib/python3.10/site-packages (from python-slugify->kaggle) (1.3)\r\n",
      "Requirement already satisfied: MarkupSafe>=2.0 in /opt/conda/lib/python3.10/site-packages (from jinja2->torch>=1.8.0->ultralytics) (2.1.5)\r\n",
      "Requirement already satisfied: mpmath<1.4,>=1.1.0 in /opt/conda/lib/python3.10/site-packages (from sympy->torch>=1.8.0->ultralytics) (1.3.0)\r\n",
      "Downloading ultralytics-8.3.31-py3-none-any.whl (886 kB)\r\n",
      "\u001b[2K   \u001b[90m━━━━━━━━━━━━━━━━━━━━━━━━━━━━━━━━━━━━━━━━\u001b[0m \u001b[32m886.3/886.3 kB\u001b[0m \u001b[31m21.1 MB/s\u001b[0m eta \u001b[36m0:00:00\u001b[0m\r\n",
      "\u001b[?25hDownloading ultralytics_thop-2.0.11-py3-none-any.whl (26 kB)\r\n",
      "Installing collected packages: ultralytics-thop, ultralytics\r\n",
      "Successfully installed ultralytics-8.3.31 ultralytics-thop-2.0.11\r\n"
     ]
    }
   ],
   "source": [
    "!pip install ultralytics kaggle tqdm albumentations"
   ]
  },
  {
   "cell_type": "code",
   "execution_count": 2,
   "id": "fc7bf121",
   "metadata": {
    "execution": {
     "iopub.execute_input": "2024-11-16T09:21:34.380768Z",
     "iopub.status.busy": "2024-11-16T09:21:34.380429Z",
     "iopub.status.idle": "2024-11-16T09:22:27.307518Z",
     "shell.execute_reply": "2024-11-16T09:22:27.306279Z"
    },
    "papermill": {
     "duration": 52.934118,
     "end_time": "2024-11-16T09:22:27.309630",
     "exception": false,
     "start_time": "2024-11-16T09:21:34.375512",
     "status": "completed"
    },
    "tags": []
   },
   "outputs": [
    {
     "name": "stdout",
     "output_type": "stream",
     "text": [
      "Cloning into 'VehicleDetection'...\r\n",
      "remote: Enumerating objects: 49580, done.\u001b[K\r\n",
      "remote: Counting objects: 100% (9593/9593), done.\u001b[K\r\n",
      "remote: Compressing objects: 100% (8615/8615), done.\u001b[K\r\n",
      "remote: Total 49580 (delta 1009), reused 9521 (delta 951), pack-reused 39987 (from 1)\u001b[K\r\n",
      "Receiving objects: 100% (49580/49580), 1.43 GiB | 30.55 MiB/s, done.\r\n",
      "Resolving deltas: 100% (11482/11482), done.\r\n",
      "/kaggle/working/VehicleDetection\n"
     ]
    }
   ],
   "source": [
    "!git clone https://github.com/n24q02m/VehicleDetection.git\n",
    "\n",
    "%cd VehicleDetection"
   ]
  },
  {
   "cell_type": "code",
   "execution_count": 3,
   "id": "8aebe521",
   "metadata": {
    "execution": {
     "iopub.execute_input": "2024-11-16T09:22:27.339487Z",
     "iopub.status.busy": "2024-11-16T09:22:27.339156Z",
     "iopub.status.idle": "2024-11-16T09:22:27.346310Z",
     "shell.execute_reply": "2024-11-16T09:22:27.345443Z"
    },
    "papermill": {
     "duration": 0.023911,
     "end_time": "2024-11-16T09:22:27.348279",
     "exception": false,
     "start_time": "2024-11-16T09:22:27.324368",
     "status": "completed"
    },
    "tags": []
   },
   "outputs": [],
   "source": [
    "import os\n",
    "\n",
    "import json\n",
    "\n",
    "\n",
    "\n",
    "# Create kaggle config directory\n",
    "\n",
    "os.makedirs(\"/root/.config/kaggle\", exist_ok=True)\n",
    "\n",
    "\n",
    "\n",
    "# Set up credentials directly\n",
    "\n",
    "token = {\"username\": \"n24q02m\", \"key\": \"4924bca98c0faed1cd5dfdd5437d23fb\"}\n",
    "\n",
    "\n",
    "\n",
    "# Save credentials\n",
    "\n",
    "with open(\"/root/.config/kaggle/kaggle.json\", \"w\") as f:\n",
    "\n",
    "    json.dump(token, f)\n",
    "\n",
    "\n",
    "\n",
    "# Set proper permissions\n",
    "\n",
    "os.chmod(\"/root/.config/kaggle/kaggle.json\", 0o600)\n",
    "\n",
    "\n",
    "\n",
    "# Set environment variables\n",
    "\n",
    "os.environ[\"KAGGLE_USERNAME\"] = token[\"username\"]\n",
    "\n",
    "os.environ[\"KAGGLE_KEY\"] = token[\"key\"]"
   ]
  },
  {
   "cell_type": "code",
   "execution_count": 4,
   "id": "cfa062d3",
   "metadata": {
    "execution": {
     "iopub.execute_input": "2024-11-16T09:22:27.376281Z",
     "iopub.status.busy": "2024-11-16T09:22:27.375979Z",
     "iopub.status.idle": "2024-11-16T09:24:16.675243Z",
     "shell.execute_reply": "2024-11-16T09:24:16.674208Z"
    },
    "papermill": {
     "duration": 109.329439,
     "end_time": "2024-11-16T09:24:16.691446",
     "exception": false,
     "start_time": "2024-11-16T09:22:27.362007",
     "status": "completed"
    },
    "tags": []
   },
   "outputs": [
    {
     "name": "stdout",
     "output_type": "stream",
     "text": [
      "Downloading dataset n24q02m/augmented-vehicle-detection-dataset...\n",
      "Dataset URL: https://www.kaggle.com/datasets/n24q02m/augmented-vehicle-detection-dataset\n",
      "Dataset downloaded and extracted.\n"
     ]
    }
   ],
   "source": [
    "# Download dataset from Kaggle\n",
    "\n",
    "import os\n",
    "\n",
    "import kaggle\n",
    "\n",
    "from kaggle.api.kaggle_api_extended import KaggleApi\n",
    "\n",
    "\n",
    "\n",
    "dataset_dir = \"./data/soict-hackathon-2024_dataset\"\n",
    "\n",
    "dataset_name = \"n24q02m/augmented-vehicle-detection-dataset\"\n",
    "\n",
    "\n",
    "\n",
    "os.makedirs(dataset_dir, exist_ok=True)\n",
    "\n",
    "\n",
    "\n",
    "print(f\"Downloading dataset {dataset_name}...\")\n",
    "\n",
    "kaggle.api.dataset_download_files(dataset_name, path=dataset_dir, unzip=True)\n",
    "\n",
    "print(\"Dataset downloaded and extracted.\")"
   ]
  },
  {
   "cell_type": "code",
   "execution_count": 5,
   "id": "348dc492",
   "metadata": {
    "execution": {
     "iopub.execute_input": "2024-11-16T09:24:16.720393Z",
     "iopub.status.busy": "2024-11-16T09:24:16.719488Z",
     "iopub.status.idle": "2024-11-16T09:24:17.821304Z",
     "shell.execute_reply": "2024-11-16T09:24:17.820188Z"
    },
    "papermill": {
     "duration": 1.118846,
     "end_time": "2024-11-16T09:24:17.823629",
     "exception": false,
     "start_time": "2024-11-16T09:24:16.704783",
     "status": "completed"
    },
    "tags": []
   },
   "outputs": [
    {
     "name": "stdout",
     "output_type": "stream",
     "text": [
      "python: can't open file '/kaggle/working/VehicleDetection/finetune.py': [Errno 2] No such file or directory\r\n"
     ]
    }
   ],
   "source": [
    "!python finetune.py"
   ]
  },
  {
   "cell_type": "code",
   "execution_count": 6,
   "id": "9961893e",
   "metadata": {
    "execution": {
     "iopub.execute_input": "2024-11-16T09:24:17.853448Z",
     "iopub.status.busy": "2024-11-16T09:24:17.853131Z",
     "iopub.status.idle": "2024-11-16T09:24:37.193435Z",
     "shell.execute_reply": "2024-11-16T09:24:37.192379Z"
    },
    "papermill": {
     "duration": 19.357872,
     "end_time": "2024-11-16T09:24:37.195453",
     "exception": false,
     "start_time": "2024-11-16T09:24:17.837581",
     "status": "completed"
    },
    "tags": []
   },
   "outputs": [
    {
     "name": "stdout",
     "output_type": "stream",
     "text": [
      "Updating model n24q02m/finetuned-vehicle-detection-model...\n",
      "Starting upload for file confusion_matrix_normalized.png\n"
     ]
    },
    {
     "name": "stderr",
     "output_type": "stream",
     "text": [
      "100%|██████████| 124k/124k [00:00<00:00, 200kB/s]\n"
     ]
    },
    {
     "name": "stdout",
     "output_type": "stream",
     "text": [
      "Upload successful: confusion_matrix_normalized.png (124KB)\n",
      "Starting upload for file labels_correlogram.jpg\n"
     ]
    },
    {
     "name": "stderr",
     "output_type": "stream",
     "text": [
      "100%|██████████| 246k/246k [00:00<00:00, 393kB/s]\n"
     ]
    },
    {
     "name": "stdout",
     "output_type": "stream",
     "text": [
      "Upload successful: labels_correlogram.jpg (246KB)\n",
      "Starting upload for file val_batch0_pred.jpg\n"
     ]
    },
    {
     "name": "stderr",
     "output_type": "stream",
     "text": [
      "100%|██████████| 114k/114k [00:00<00:00, 188kB/s]\n"
     ]
    },
    {
     "name": "stdout",
     "output_type": "stream",
     "text": [
      "Upload successful: val_batch0_pred.jpg (114KB)\n",
      "Starting upload for file labels.jpg\n"
     ]
    },
    {
     "name": "stderr",
     "output_type": "stream",
     "text": [
      "100%|██████████| 138k/138k [00:00<00:00, 224kB/s]\n"
     ]
    },
    {
     "name": "stdout",
     "output_type": "stream",
     "text": [
      "Upload successful: labels.jpg (138KB)\n",
      "Starting upload for file val_batch1_labels.jpg\n"
     ]
    },
    {
     "name": "stderr",
     "output_type": "stream",
     "text": [
      "100%|██████████| 106k/106k [00:00<00:00, 176kB/s]\n"
     ]
    },
    {
     "name": "stdout",
     "output_type": "stream",
     "text": [
      "Upload successful: val_batch1_labels.jpg (106KB)\n",
      "Starting upload for file val_batch2_pred.jpg\n"
     ]
    },
    {
     "name": "stderr",
     "output_type": "stream",
     "text": [
      "100%|██████████| 112k/112k [00:00<00:00, 186kB/s]\n"
     ]
    },
    {
     "name": "stdout",
     "output_type": "stream",
     "text": [
      "Upload successful: val_batch2_pred.jpg (112KB)\n",
      "Starting upload for file val_batch1_pred.jpg\n"
     ]
    },
    {
     "name": "stderr",
     "output_type": "stream",
     "text": [
      "100%|██████████| 112k/112k [00:00<00:00, 186kB/s]\n"
     ]
    },
    {
     "name": "stdout",
     "output_type": "stream",
     "text": [
      "Upload successful: val_batch1_pred.jpg (112KB)\n",
      "Starting upload for file results.csv\n"
     ]
    },
    {
     "name": "stderr",
     "output_type": "stream",
     "text": [
      "100%|██████████| 5.31k/5.31k [00:00<00:00, 8.53kB/s]\n"
     ]
    },
    {
     "name": "stdout",
     "output_type": "stream",
     "text": [
      "Upload successful: results.csv (5KB)\n",
      "Starting upload for file results.png\n"
     ]
    },
    {
     "name": "stderr",
     "output_type": "stream",
     "text": [
      "100%|██████████| 410k/410k [00:00<00:00, 618kB/s]\n"
     ]
    },
    {
     "name": "stdout",
     "output_type": "stream",
     "text": [
      "Upload successful: results.png (410KB)\n",
      "Starting upload for file val_batch0_labels.jpg\n"
     ]
    },
    {
     "name": "stderr",
     "output_type": "stream",
     "text": [
      "100%|██████████| 111k/111k [00:00<00:00, 156kB/s]\n"
     ]
    },
    {
     "name": "stdout",
     "output_type": "stream",
     "text": [
      "Upload successful: val_batch0_labels.jpg (111KB)\n",
      "Starting upload for file train_batch2.jpg\n"
     ]
    },
    {
     "name": "stderr",
     "output_type": "stream",
     "text": [
      "100%|██████████| 46.7k/46.7k [00:00<00:00, 73.1kB/s]\n"
     ]
    },
    {
     "name": "stdout",
     "output_type": "stream",
     "text": [
      "Upload successful: train_batch2.jpg (47KB)\n",
      "Starting upload for file R_curve.png\n"
     ]
    },
    {
     "name": "stderr",
     "output_type": "stream",
     "text": [
      "100%|██████████| 190k/190k [00:00<00:00, 319kB/s]\n"
     ]
    },
    {
     "name": "stdout",
     "output_type": "stream",
     "text": [
      "Upload successful: R_curve.png (190KB)\n",
      "Starting upload for file confusion_matrix.png\n"
     ]
    },
    {
     "name": "stderr",
     "output_type": "stream",
     "text": [
      "100%|██████████| 138k/138k [00:00<00:00, 227kB/s]\n"
     ]
    },
    {
     "name": "stdout",
     "output_type": "stream",
     "text": [
      "Upload successful: confusion_matrix.png (138KB)\n",
      "Starting upload for file P_curve.png\n"
     ]
    },
    {
     "name": "stderr",
     "output_type": "stream",
     "text": [
      "100%|██████████| 168k/168k [00:00<00:00, 260kB/s]\n"
     ]
    },
    {
     "name": "stdout",
     "output_type": "stream",
     "text": [
      "Upload successful: P_curve.png (168KB)\n",
      "Starting upload for file args.yaml\n"
     ]
    },
    {
     "name": "stderr",
     "output_type": "stream",
     "text": [
      "100%|██████████| 1.57k/1.57k [00:00<00:00, 2.55kB/s]\n"
     ]
    },
    {
     "name": "stdout",
     "output_type": "stream",
     "text": [
      "Upload successful: args.yaml (2KB)\n",
      "Starting upload for file train_batch0.jpg\n"
     ]
    },
    {
     "name": "stderr",
     "output_type": "stream",
     "text": [
      "100%|██████████| 75.1k/75.1k [00:00<00:00, 105kB/s]\n"
     ]
    },
    {
     "name": "stdout",
     "output_type": "stream",
     "text": [
      "Upload successful: train_batch0.jpg (75KB)\n",
      "Starting upload for file PR_curve.png\n"
     ]
    },
    {
     "name": "stderr",
     "output_type": "stream",
     "text": [
      "100%|██████████| 157k/157k [00:00<00:00, 260kB/s]\n"
     ]
    },
    {
     "name": "stdout",
     "output_type": "stream",
     "text": [
      "Upload successful: PR_curve.png (157KB)\n",
      "Starting upload for file F1_curve.png\n"
     ]
    },
    {
     "name": "stderr",
     "output_type": "stream",
     "text": [
      "100%|██████████| 198k/198k [00:00<00:00, 323kB/s]\n"
     ]
    },
    {
     "name": "stdout",
     "output_type": "stream",
     "text": [
      "Upload successful: F1_curve.png (198KB)\n",
      "Starting upload for file val_batch2_labels.jpg\n"
     ]
    },
    {
     "name": "stderr",
     "output_type": "stream",
     "text": [
      "100%|██████████| 105k/105k [00:00<00:00, 162kB/s]\n"
     ]
    },
    {
     "name": "stdout",
     "output_type": "stream",
     "text": [
      "Upload successful: val_batch2_labels.jpg (105KB)\n",
      "Starting upload for file train_batch1.jpg\n"
     ]
    },
    {
     "name": "stderr",
     "output_type": "stream",
     "text": [
      "100%|██████████| 58.8k/58.8k [00:00<00:00, 103kB/s]\n"
     ]
    },
    {
     "name": "stdout",
     "output_type": "stream",
     "text": [
      "Upload successful: train_batch1.jpg (59KB)\n",
      "Model updated successfully\n"
     ]
    }
   ],
   "source": [
    "# Update model on Kaggle\n",
    "\n",
    "model_name = \"n24q02m/finetuned-vehicle-detection-model\"\n",
    "\n",
    "model_dir = \"./runs/finetuned-model\"\n",
    "\n",
    "\n",
    "\n",
    "metadata = {\n",
    "\n",
    "    \"title\": \"Finetuned Vehicle Detection Model\",\n",
    "\n",
    "    \"id\": f\"{model_name}\",\n",
    "\n",
    "    \"licenses\": [{\"name\": \"CC0-1.0\"}]\n",
    "\n",
    "}\n",
    "\n",
    "\n",
    "\n",
    "with open(os.path.join(model_dir, \"dataset-metadata.json\"), \"w\") as f:\n",
    "\n",
    "    json.dump(metadata, f)\n",
    "\n",
    "\n",
    "\n",
    "print(f\"Updating model {model_name}...\")\n",
    "\n",
    "kaggle.api.dataset_create_version(model_dir, version_notes=\"Updated model\")\n",
    "\n",
    "print(\"Model updated successfully\")"
   ]
  }
 ],
 "metadata": {
  "kaggle": {
   "accelerator": "none",
   "dataSources": [],
   "dockerImageVersionId": 30787,
   "isGpuEnabled": false,
   "isInternetEnabled": true,
   "language": "python",
   "sourceType": "notebook"
  },
  "kernelspec": {
   "display_name": "vehicle-detection",
   "language": "python",
   "name": "python3"
  },
  "language_info": {
   "codemirror_mode": {
    "name": "ipython",
    "version": 3
   },
   "file_extension": ".py",
   "mimetype": "text/x-python",
   "name": "python",
   "nbconvert_exporter": "python",
   "pygments_lexer": "ipython3",
   "version": "3.10.14"
  },
  "papermill": {
   "default_parameters": {},
   "duration": 199.89947,
   "end_time": "2024-11-16T09:24:37.533923",
   "environment_variables": {},
   "exception": null,
   "input_path": "__notebook__.ipynb",
   "output_path": "__notebook__.ipynb",
   "parameters": {},
   "start_time": "2024-11-16T09:21:17.634453",
   "version": "2.6.0"
  }
 },
 "nbformat": 4,
 "nbformat_minor": 5
}
